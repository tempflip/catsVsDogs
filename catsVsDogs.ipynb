{
 "cells": [
  {
   "cell_type": "code",
   "execution_count": 13,
   "metadata": {
    "collapsed": false,
    "deletable": true,
    "editable": true
   },
   "outputs": [
    {
     "name": "stdout",
     "output_type": "stream",
     "text": [
      "Loaded.\n"
     ]
    }
   ],
   "source": [
    "import pickle\n",
    "import numpy as np\n",
    "from sklearn.utils import shuffle\n",
    "\n",
    "d = pickle.load(open('train_data.p', 'rb'))\n",
    "train_x = np.array(d['train_x'], dtype=np.float32)\n",
    "train_y = np.array(d['train_y'])\n",
    "\n",
    "train_y[train_y == -1] = 0\n",
    "\n",
    "train_x, train_y = shuffle(train_x, train_y)\n",
    "train_x = train_x - 128\n",
    "train_x = train_x / 128\n",
    "\n",
    "print('Loaded.')"
   ]
  },
  {
   "cell_type": "code",
   "execution_count": 14,
   "metadata": {
    "collapsed": false,
    "deletable": true,
    "editable": true
   },
   "outputs": [
    {
     "name": "stdout",
     "output_type": "stream",
     "text": [
      "(25000, 32, 32, 3) (25000,)\n"
     ]
    }
   ],
   "source": [
    "print(train_x.shape, train_y.shape)"
   ]
  },
  {
   "cell_type": "code",
   "execution_count": 15,
   "metadata": {
    "collapsed": false,
    "deletable": true,
    "editable": true
   },
   "outputs": [
    {
     "name": "stdout",
     "output_type": "stream",
     "text": [
      "0 0 1 1\n",
      "0.992188 -1.0\n"
     ]
    },
    {
     "data": {
      "text/plain": [
       "<matplotlib.image.AxesImage at 0x7fcdeb23c278>"
      ]
     },
     "execution_count": 15,
     "metadata": {},
     "output_type": "execute_result"
    },
    {
     "data": {
      "image/png": "[encoded data removed]",
      "text/plain": [
       "<matplotlib.figure.Figure at 0x7fce246b0358>"
      ]
     },
     "metadata": {},
     "output_type": "display_data"
    }
   ],
   "source": [
    "import matplotlib.pyplot as plt\n",
    "%matplotlib inline\n",
    "\n",
    "print(train_y[500], train_y[501], train_y[502], train_y[503])\n",
    "print (np.max(train_x), np.min(train_x))\n",
    "\n",
    "plt.subplot(411)\n",
    "plt.imshow(train_x[500])\n",
    "plt.subplot(412)\n",
    "plt.imshow(train_x[501])\n",
    "plt.subplot(413)\n",
    "plt.imshow(train_x[502])\n",
    "plt.subplot(414)\n",
    "plt.imshow(train_x[503])\n",
    "\n"
   ]
  },
  {
   "cell_type": "code",
   "execution_count": 16,
   "metadata": {
    "collapsed": false,
    "deletable": true,
    "editable": true
   },
   "outputs": [
    {
     "name": "stdout",
     "output_type": "stream",
     "text": [
      "Tensor(\"Add_7:0\", shape=(1, 2), dtype=float32)\n"
     ]
    }
   ],
   "source": [
    "import tensorflow as tf\n",
    "def model(x):\n",
    "    w_l1 = tf.Variable(tf.random_normal([4,4,3,20]))\n",
    "    b_l1 = tf.Variable(tf.random_normal([20]))\n",
    "    conv1 = tf.nn.conv2d(x, w_l1, [1,1,1,1], 'VALID') + b_l1\n",
    "    relu1 = tf.nn.relu(conv1)\n",
    "    maxpool1 = tf.nn.max_pool(relu1, [1,2,2,1], [1,2,2,1], 'VALID')\n",
    "    \n",
    "    w_l2 = tf.Variable(tf.random_normal([4,4,20,40]))\n",
    "    b_l2 = tf.Variable(tf.random_normal([40]))\n",
    "    conv2 = tf.nn.conv2d(maxpool1, w_l2, [1,1,1,1], 'VALID') + b_l2\n",
    "    relu2 = tf.nn.relu(conv2)\n",
    "    maxpool2 = tf.nn.max_pool(relu2, [1,2,2,1], [1,2,2,1], 'VALID')    \n",
    "    flat = tf.contrib.layers.flatten(maxpool2)\n",
    "\n",
    "    f1_w = tf.Variable(tf.random_normal([1000, 100]))\n",
    "    f1_b = tf.Variable(tf.random_normal([100]))\n",
    "    full1 = tf.add(tf.matmul(flat, f1_w), f1_b)\n",
    "    \n",
    "    f2_w = tf.Variable(tf.random_normal([100, 2]))\n",
    "    f2_b = tf.Variable(tf.random_normal([2]))\n",
    "    full2 = tf.add(tf.matmul(full1, f2_w), f2_b)\n",
    "    \n",
    "    return full2\n",
    "                       \n",
    "\n",
    "print(model(train_x[1].reshape((1,32,32,3))))\n",
    "    "
   ]
  },
  {
   "cell_type": "code",
   "execution_count": 17,
   "metadata": {
    "collapsed": false,
    "deletable": true,
    "editable": true
   },
   "outputs": [],
   "source": [
    "\n",
    "x = tf.placeholder(tf.float32, (None, 32, 32, 3))\n",
    "y = tf.placeholder(tf.int32, (None))\n",
    "\n",
    "rate = 0.001\n",
    "one_hot_y = tf.one_hot(y, 2)\n",
    "logits = model(x)\n",
    "\n",
    "cross_entropy = tf.nn.softmax_cross_entropy_with_logits(logits = logits, labels = one_hot_y)\n",
    "cost = tf.reduce_mean(cross_entropy)\n",
    "optimizer = tf.train.AdamOptimizer(learning_rate = rate, name=\"optimizer\").minimize(cost)\n",
    "\n",
    "correct_pred = tf.equal(tf.argmax(logits, 1), tf.argmax(one_hot_y, 1))\n",
    "accuracy = tf.reduce_mean(tf.cast(correct_pred, tf.float32))\n",
    "\n",
    "pred = tf.argmax(tf.nn.softmax(logits),1)\n",
    "#print(logits.shape, pred.shape)"
   ]
  },
  {
   "cell_type": "code",
   "execution_count": 29,
   "metadata": {
    "collapsed": false,
    "deletable": true,
    "editable": true
   },
   "outputs": [
    {
     "name": "stdout",
     "output_type": "stream",
     "text": [
      "(10000, 32, 32, 3) (10000,) (300, 32, 32, 3) (300,)\n"
     ]
    }
   ],
   "source": [
    "nt = 10000\n",
    "val_start = 16000\n",
    "val_end = 16300\n",
    "\n",
    "xt = train_x[0:nt]\n",
    "yt = train_y[0:nt]\n",
    "\n",
    "xv = train_x[val_start:val_end]\n",
    "yv = train_y[val_start:val_end]\n",
    "\n",
    "\n",
    "print (xt.shape, yt.shape, xv.shape, yv.shape)"
   ]
  },
  {
   "cell_type": "code",
   "execution_count": 30,
   "metadata": {
    "collapsed": false,
    "deletable": true,
    "editable": true
   },
   "outputs": [
    {
     "name": "stdout",
     "output_type": "stream",
     "text": [
      "e: 0, b: 0/100, lost : 18866.115234375, acc: 0.45000001788139343, 0.49779990315437317, acc_val: 0.550000011920929\n",
      "e: 0, b: 1/100, lost : 15806.6015625, acc: 0.47236180305480957, 0.49669986963272095, acc_val: 0.5499999523162842\n",
      "e: 0, b: 2/100, lost : 13606.984375, acc: 0.4563758671283722, 0.49439987540245056, acc_val: 0.5466666221618652\n",
      "e: 0, b: 3/100, lost : 10438.388671875, acc: 0.4685138463973999, 0.4927998483181, acc_val: 0.5499999523162842\n",
      "e: 0, b: 4/100, lost : 7898.6455078125, acc: 0.4697580635547638, 0.4923999011516571, acc_val: 0.5433332920074463\n",
      "e: 0, b: 5/100, lost : 6017.87939453125, acc: 0.48235297203063965, 0.489999920129776, acc_val: 0.5533333420753479\n",
      "e: 0, b: 6/100, lost : 4785.94580078125, acc: 0.47694525122642517, 0.4843998849391937, acc_val: 0.49666666984558105\n",
      "e: 0, b: 7/100, lost : 4596.90771484375, acc: 0.498108446598053, 0.48359984159469604, acc_val: 0.46666666865348816\n",
      "e: 0, b: 8/100, lost : 4815.13525390625, acc: 0.49775785207748413, 0.48629987239837646, acc_val: 0.4933333396911621\n",
      "e: 0, b: 9/100, lost : 5269.6611328125, acc: 0.5146316885948181, 0.4913998544216156, acc_val: 0.44999998807907104\n",
      "e: 0, b: 10/100, lost : 5810.5419921875, acc: 0.5192660689353943, 0.4938998818397522, acc_val: 0.45666664838790894\n",
      "e: 0, b: 11/100, lost : 6231.74755859375, acc: 0.5197644829750061, 0.4952998757362366, acc_val: 0.4466666579246521\n",
      "e: 0, b: 12/100, lost : 6493.591796875, acc: 0.5100932121276855, 0.49669989943504333, acc_val: 0.4333333373069763\n",
      "e: 0, b: 13/100, lost : 6321.70458984375, acc: 0.5133380889892578, 0.49679988622665405, acc_val: 0.4333333373069763\n",
      "e: 0, b: 14/100, lost : 5989.08544921875, acc: 0.5127859711647034, 0.4964998960494995, acc_val: 0.4399999976158142\n",
      "e: 0, b: 15/100, lost : 5536.767578125, acc: 0.5091482400894165, 0.49509990215301514, acc_val: 0.4433332681655884\n",
      "e: 0, b: 16/100, lost : 5081.0771484375, acc: 0.5059382915496826, 0.4947998821735382, acc_val: 0.4466666579246521\n",
      "e: 0, b: 17/100, lost : 4519.2783203125, acc: 0.4991587996482849, 0.4921998679637909, acc_val: 0.45333331823349\n",
      "e: 0, b: 18/100, lost : 4079.582275390625, acc: 0.49893730878829956, 0.49029991030693054, acc_val: 0.46666669845581055\n",
      "e: 0, b: 19/100, lost : 3747.918212890625, acc: 0.4921756982803345, 0.4864998459815979, acc_val: 0.4766666293144226\n",
      "e: 0, b: 20/100, lost : 3615.86962890625, acc: 0.48942312598228455, 0.4843998849391937, acc_val: 0.4699999988079071\n",
      "e: 0, b: 21/100, lost : 3610.27734375, acc: 0.4837081730365753, 0.48049983382225037, acc_val: 0.46666666865348816\n",
      "e: 0, b: 22/100, lost : 3681.269775390625, acc: 0.47717294096946716, 0.4825999140739441, acc_val: 0.5066666603088379\n",
      "e: 0, b: 23/100, lost : 3777.037841796875, acc: 0.47665125131607056, 0.4832998514175415, acc_val: 0.5199999809265137\n",
      "e: 0, b: 24/100, lost : 3876.000732421875, acc: 0.481825590133667, 0.4840998947620392, acc_val: 0.5333333015441895\n",
      "e: 0, b: 25/100, lost : 3919.7421875, acc: 0.4862136244773865, 0.4840998947620392, acc_val: 0.5366666316986084\n",
      "e: 0, b: 26/100, lost : 3839.078369140625, acc: 0.4884069263935089, 0.48479989171028137, acc_val: 0.5366666316986084\n",
      "e: 0, b: 27/100, lost : 3715.939208984375, acc: 0.49008288979530334, 0.4862998425960541, acc_val: 0.5399999618530273\n",
      "e: 0, b: 28/100, lost : 3552.783203125, acc: 0.4888579249382019, 0.4864998757839203, acc_val: 0.5400000214576721\n",
      "e: 0, b: 29/100, lost : 3370.78271484375, acc: 0.490070641040802, 0.4871998727321625, acc_val: 0.5199999809265137\n",
      "e: 0, b: 30/100, lost : 3195.50244140625, acc: 0.48534202575683594, 0.48459988832473755, acc_val: 0.5\n",
      "e: 0, b: 31/100, lost : 3065.7509765625, acc: 0.4831177294254303, 0.4825999140739441, acc_val: 0.503333330154419\n",
      "e: 0, b: 32/100, lost : 2998.04443359375, acc: 0.4923500418663025, 0.48779988288879395, acc_val: 0.48666664958000183\n",
      "e: 0, b: 33/100, lost : 2982.254150390625, acc: 0.49688148498535156, 0.4929998815059662, acc_val: 0.5\n",
      "e: 0, b: 34/100, lost : 3027.87548828125, acc: 0.4959607422351837, 0.4956998825073242, acc_val: 0.4833333492279053\n",
      "e: 0, b: 35/100, lost : 3064.307373046875, acc: 0.49733519554138184, 0.4994998574256897, acc_val: 0.476666659116745\n",
      "e: 0, b: 36/100, lost : 3074.131591796875, acc: 0.5024563074111938, 0.49979984760284424, acc_val: 0.47333332896232605\n",
      "e: 0, b: 37/100, lost : 3057.83154296875, acc: 0.5043848156929016, 0.5017998814582825, acc_val: 0.47333332896232605\n",
      "e: 0, b: 38/100, lost : 3013.766357421875, acc: 0.5056965947151184, 0.5030998587608337, acc_val: 0.49000000953674316\n",
      "e: 0, b: 39/100, lost : 2936.839599609375, acc: 0.5029032826423645, 0.5017998814582825, acc_val: 0.4866666793823242\n",
      "e: 0, b: 40/100, lost : 2854.56689453125, acc: 0.5017241835594177, 0.5008999109268188, acc_val: 0.4833333492279053\n",
      "e: 0, b: 41/100, lost : 2773.158203125, acc: 0.5020437836647034, 0.5001999139785767, acc_val: 0.4833333492279053\n",
      "e: 0, b: 42/100, lost : 2712.054931640625, acc: 0.506575882434845, 0.5018998980522156, acc_val: 0.47999995946884155\n",
      "e: 0, b: 43/100, lost : 2665.15380859375, acc: 0.5065411925315857, 0.5028998255729675, acc_val: 0.4933333098888397\n",
      "e: 0, b: 44/100, lost : 2634.842529296875, acc: 0.5056103467941284, 0.5007998943328857, acc_val: 0.5166666507720947\n",
      "e: 0, b: 45/100, lost : 2619.134521484375, acc: 0.5047200918197632, 0.49899986386299133, acc_val: 0.5199999809265137\n",
      "e: 0, b: 46/100, lost : 2611.39501953125, acc: 0.5042973756790161, 0.49929988384246826, acc_val: 0.5199999809265137\n",
      "e: 0, b: 47/100, lost : 2604.45751953125, acc: 0.50557541847229, 0.5005999207496643, acc_val: 0.5266666412353516\n",
      "e: 0, b: 48/100, lost : 2585.96533203125, acc: 0.5065951347351074, 0.5022998452186584, acc_val: 0.5266666412353516\n",
      "e: 0, b: 49/100, lost : 2560.001220703125, acc: 0.5065643191337585, 0.503899872303009, acc_val: 0.5266666412353516\n",
      "e: 0, b: 50/100, lost : 2519.64990234375, acc: 0.5077227354049683, 0.5041998624801636, acc_val: 0.5266666412353516\n",
      "e: 0, b: 51/100, lost : 2471.035888671875, acc: 0.5068944692611694, 0.5048998594284058, acc_val: 0.5299999713897705\n",
      "e: 0, b: 52/100, lost : 2434.806640625, acc: 0.5085747241973877, 0.5076998472213745, acc_val: 0.5199999809265137\n",
      "e: 0, b: 53/100, lost : 2397.800537109375, acc: 0.5124369859695435, 0.5101998448371887, acc_val: 0.5133333206176758\n",
      "e: 0, b: 54/100, lost : 2375.7900390625, acc: 0.515240490436554, 0.5141998529434204, acc_val: 0.503333330154419\n",
      "e: 0, b: 55/100, lost : 2356.70068359375, acc: 0.5190262198448181, 0.5167999267578125, acc_val: 0.49000000953674316\n",
      "e: 0, b: 56/100, lost : 2343.984375, acc: 0.5210843682289124, 0.5189998745918274, acc_val: 0.5\n",
      "e: 0, b: 57/100, lost : 2324.92919921875, acc: 0.5216784477233887, 0.5208998918533325, acc_val: 0.49666666984558105\n",
      "e: 0, b: 58/100, lost : 2308.961669921875, acc: 0.5232797265052795, 0.5224998593330383, acc_val: 0.49000000953674316\n",
      "e: 0, b: 59/100, lost : 2284.25, acc: 0.5256690979003906, 0.5230998992919922, acc_val: 0.49000000953674316\n",
      "e: 0, b: 60/100, lost : 2266.033935546875, acc: 0.5238410830497742, 0.5243998765945435, acc_val: 0.4933333396911621\n",
      "e: 0, b: 61/100, lost : 2231.958740234375, acc: 0.5230493545532227, 0.5236998796463013, acc_val: 0.503333330154419\n",
      "e: 0, b: 62/100, lost : 2203.1005859375, acc: 0.5248477458953857, 0.5240998268127441, acc_val: 0.5199999809265137\n",
      "e: 0, b: 63/100, lost : 2184.450927734375, acc: 0.5232759714126587, 0.5224999189376831, acc_val: 0.5233333110809326\n",
      "e: 0, b: 64/100, lost : 2179.029296875, acc: 0.519888162612915, 0.5211998820304871, acc_val: 0.5299999713897705\n",
      "e: 0, b: 65/100, lost : 2165.10498046875, acc: 0.5164499282836914, 0.5192999243736267, acc_val: 0.5333333015441895\n",
      "e: 0, b: 66/100, lost : 2147.745361328125, acc: 0.5156767964363098, 0.5177999138832092, acc_val: 0.5399999618530273\n",
      "e: 0, b: 67/100, lost : 2124.78662109375, acc: 0.5180454254150391, 0.5188998579978943, acc_val: 0.5533332824707031\n",
      "e: 0, b: 68/100, lost : 2113.241943359375, acc: 0.5197598934173584, 0.5205998420715332, acc_val: 0.5499999523162842\n",
      "e: 0, b: 69/100, lost : 2100.8154296875, acc: 0.5192613005638123, 0.5211998820304871, acc_val: 0.5433332920074463\n",
      "e: 0, b: 70/100, lost : 2072.09765625, acc: 0.5234708189964294, 0.524199903011322, acc_val: 0.5466666221618652\n",
      "e: 0, b: 71/100, lost : 2053.878173828125, acc: 0.5261606574058533, 0.5267998576164246, acc_val: 0.54666668176651\n",
      "e: 0, b: 72/100, lost : 2035.700927734375, acc: 0.5271168351173401, 0.5272998809814453, acc_val: 0.54666668176651\n",
      "e: 0, b: 73/100, lost : 2010.95166015625, acc: 0.5302306413650513, 0.5295998454093933, acc_val: 0.5333333015441895\n",
      "e: 0, b: 74/100, lost : 2003.114013671875, acc: 0.5315109491348267, 0.5309998989105225, acc_val: 0.5333333015441895\n",
      "e: 0, b: 75/100, lost : 1992.393310546875, acc: 0.5314286947250366, 0.5313999056816101, acc_val: 0.5400000214576721\n",
      "e: 0, b: 76/100, lost : 1982.8272705078125, acc: 0.5321351885795593, 0.5313999056816101, acc_val: 0.5400000214576721\n",
      "e: 0, b: 77/100, lost : 1958.0687255859375, acc: 0.5333420634269714, 0.5322998762130737, acc_val: 0.5400000214576721\n",
      "e: 0, b: 78/100, lost : 1940.0029296875, acc: 0.5336230397224426, 0.5321998596191406, acc_val: 0.5433333516120911\n",
      "e: 0, b: 79/100, lost : 1922.175537109375, acc: 0.5345284938812256, 0.5324999094009399, acc_val: 0.5433333516120911\n",
      "e: 0, b: 80/100, lost : 1906.57080078125, acc: 0.5344139337539673, 0.5328999161720276, acc_val: 0.5433333516120911\n",
      "e: 0, b: 81/100, lost : 1889.0872802734375, acc: 0.5345485806465149, 0.5328998565673828, acc_val: 0.5433333516120911\n",
      "e: 0, b: 82/100, lost : 1880.83447265625, acc: 0.5345581769943237, 0.5337998867034912, acc_val: 0.5433332920074463\n",
      "e: 0, b: 83/100, lost : 1866.4246826171875, acc: 0.5349283218383789, 0.5336998701095581, acc_val: 0.5499999523162842\n",
      "e: 0, b: 84/100, lost : 1847.8880615234375, acc: 0.5369534492492676, 0.5344999432563782, acc_val: 0.54666668176651\n",
      "e: 0, b: 85/100, lost : 1834.2852783203125, acc: 0.5376394391059875, 0.5347999334335327, acc_val: 0.550000011920929\n",
      "e: 0, b: 86/100, lost : 1820.0032958984375, acc: 0.5387740135192871, 0.5367999076843262, acc_val: 0.550000011920929\n",
      "e: 0, b: 87/100, lost : 1807.2783203125, acc: 0.5404568910598755, 0.538399875164032, acc_val: 0.5466666221618652\n",
      "e: 0, b: 88/100, lost : 1791.977294921875, acc: 0.5427826642990112, 0.5404998660087585, acc_val: 0.5399999618530273\n",
      "e: 0, b: 89/100, lost : 1785.333740234375, acc: 0.5430367588996887, 0.5411999225616455, acc_val: 0.5400000214576721\n",
      "e: 0, b: 90/100, lost : 1774.802001953125, acc: 0.5446171164512634, 0.5423998832702637, acc_val: 0.5366666316986084\n",
      "e: 0, b: 91/100, lost : 1771.350830078125, acc: 0.5456141829490662, 0.5442999005317688, acc_val: 0.5366666913032532\n",
      "e: 0, b: 92/100, lost : 1760.4111328125, acc: 0.5459383130073547, 0.5445998907089233, acc_val: 0.5366666316986084\n",
      "e: 0, b: 93/100, lost : 1750.730224609375, acc: 0.5461480021476746, 0.544999897480011, acc_val: 0.5333333611488342\n",
      "e: 0, b: 94/100, lost : 1743.42431640625, acc: 0.5458217859268188, 0.5447999238967896, acc_val: 0.5333333015441895\n",
      "e: 0, b: 95/100, lost : 1731.825439453125, acc: 0.5455023646354675, 0.544999897480011, acc_val: 0.5366666316986084\n",
      "e: 0, b: 96/100, lost : 1720.587890625, acc: 0.5452935695648193, 0.5446999073028564, acc_val: 0.5399999618530273\n",
      "e: 0, b: 97/100, lost : 1710.6380615234375, acc: 0.5455012917518616, 0.5456998944282532, acc_val: 0.54666668176651\n"
     ]
    },
    {
     "ename": "ResourceExhaustedError",
     "evalue": "OOM when allocating tensor with shape[9802,20,14,14]\n\t [[Node: gradients_2/MaxPool_8_grad/MaxPoolGrad = MaxPoolGrad[T=DT_FLOAT, data_format=\"NHWC\", ksize=[1, 2, 2, 1], padding=\"VALID\", strides=[1, 2, 2, 1], _device=\"/job:localhost/replica:0/task:0/gpu:0\"](Relu_8, MaxPool_8, gradients_2/Conv2D_9_grad/tuple/control_dependency)]]\n\nCaused by op 'gradients_2/MaxPool_8_grad/MaxPoolGrad', defined at:\n  File \"/home/carnd/anaconda3/envs/carnd-term1/lib/python3.5/runpy.py\", line 184, in _run_module_as_main\n    \"__main__\", mod_spec)\n  File \"/home/carnd/anaconda3/envs/carnd-term1/lib/python3.5/runpy.py\", line 85, in _run_code\n    exec(code, run_globals)\n  File \"/home/carnd/anaconda3/envs/carnd-term1/lib/python3.5/site-packages/ipykernel/__main__.py\", line 3, in <module>\n    app.launch_new_instance()\n  File \"/home/carnd/anaconda3/envs/carnd-term1/lib/python3.5/site-packages/traitlets/config/application.py\", line 653, in launch_instance\n    app.start()\n  File \"/home/carnd/anaconda3/envs/carnd-term1/lib/python3.5/site-packages/ipykernel/kernelapp.py\", line 474, in start\n    ioloop.IOLoop.instance().start()\n  File \"/home/carnd/anaconda3/envs/carnd-term1/lib/python3.5/site-packages/zmq/eventloop/ioloop.py\", line 177, in start\n    super(ZMQIOLoop, self).start()\n  File \"/home/carnd/anaconda3/envs/carnd-term1/lib/python3.5/site-packages/tornado/ioloop.py\", line 887, in start\n    handler_func(fd_obj, events)\n  File \"/home/carnd/anaconda3/envs/carnd-term1/lib/python3.5/site-packages/tornado/stack_context.py\", line 275, in null_wrapper\n    return fn(*args, **kwargs)\n  File \"/home/carnd/anaconda3/envs/carnd-term1/lib/python3.5/site-packages/zmq/eventloop/zmqstream.py\", line 440, in _handle_events\n    self._handle_recv()\n  File \"/home/carnd/anaconda3/envs/carnd-term1/lib/python3.5/site-packages/zmq/eventloop/zmqstream.py\", line 472, in _handle_recv\n    self._run_callback(callback, msg)\n  File \"/home/carnd/anaconda3/envs/carnd-term1/lib/python3.5/site-packages/zmq/eventloop/zmqstream.py\", line 414, in _run_callback\n    callback(*args, **kwargs)\n  File \"/home/carnd/anaconda3/envs/carnd-term1/lib/python3.5/site-packages/tornado/stack_context.py\", line 275, in null_wrapper\n    return fn(*args, **kwargs)\n  File \"/home/carnd/anaconda3/envs/carnd-term1/lib/python3.5/site-packages/ipykernel/kernelbase.py\", line 276, in dispatcher\n    return self.dispatch_shell(stream, msg)\n  File \"/home/carnd/anaconda3/envs/carnd-term1/lib/python3.5/site-packages/ipykernel/kernelbase.py\", line 228, in dispatch_shell\n    handler(stream, idents, msg)\n  File \"/home/carnd/anaconda3/envs/carnd-term1/lib/python3.5/site-packages/ipykernel/kernelbase.py\", line 390, in execute_request\n    user_expressions, allow_stdin)\n  File \"/home/carnd/anaconda3/envs/carnd-term1/lib/python3.5/site-packages/ipykernel/ipkernel.py\", line 196, in do_execute\n    res = shell.run_cell(code, store_history=store_history, silent=silent)\n  File \"/home/carnd/anaconda3/envs/carnd-term1/lib/python3.5/site-packages/ipykernel/zmqshell.py\", line 501, in run_cell\n    return super(ZMQInteractiveShell, self).run_cell(*args, **kwargs)\n  File \"/home/carnd/anaconda3/envs/carnd-term1/lib/python3.5/site-packages/IPython/core/interactiveshell.py\", line 2717, in run_cell\n    interactivity=interactivity, compiler=compiler, result=result)\n  File \"/home/carnd/anaconda3/envs/carnd-term1/lib/python3.5/site-packages/IPython/core/interactiveshell.py\", line 2821, in run_ast_nodes\n    if self.run_code(code, result):\n  File \"/home/carnd/anaconda3/envs/carnd-term1/lib/python3.5/site-packages/IPython/core/interactiveshell.py\", line 2881, in run_code\n    exec(code_obj, self.user_global_ns, self.user_ns)\n  File \"<ipython-input-17-e8d4ea649ede>\", line 11, in <module>\n    optimizer = tf.train.AdamOptimizer(learning_rate = rate, name=\"optimizer\").minimize(cost)\n  File \"/home/carnd/anaconda3/envs/carnd-term1/lib/python3.5/site-packages/tensorflow/python/training/optimizer.py\", line 269, in minimize\n    grad_loss=grad_loss)\n  File \"/home/carnd/anaconda3/envs/carnd-term1/lib/python3.5/site-packages/tensorflow/python/training/optimizer.py\", line 335, in compute_gradients\n    colocate_gradients_with_ops=colocate_gradients_with_ops)\n  File \"/home/carnd/anaconda3/envs/carnd-term1/lib/python3.5/site-packages/tensorflow/python/ops/gradients_impl.py\", line 482, in gradients\n    in_grads = grad_fn(op, *out_grads)\n  File \"/home/carnd/anaconda3/envs/carnd-term1/lib/python3.5/site-packages/tensorflow/python/ops/nn_grad.py\", line 404, in _MaxPoolGrad\n    data_format=op.get_attr(\"data_format\"))\n  File \"/home/carnd/anaconda3/envs/carnd-term1/lib/python3.5/site-packages/tensorflow/python/ops/gen_nn_ops.py\", line 1697, in _max_pool_grad\n    data_format=data_format, name=name)\n  File \"/home/carnd/anaconda3/envs/carnd-term1/lib/python3.5/site-packages/tensorflow/python/framework/op_def_library.py\", line 759, in apply_op\n    op_def=op_def)\n  File \"/home/carnd/anaconda3/envs/carnd-term1/lib/python3.5/site-packages/tensorflow/python/framework/ops.py\", line 2240, in create_op\n    original_op=self._default_original_op, op_def=op_def)\n  File \"/home/carnd/anaconda3/envs/carnd-term1/lib/python3.5/site-packages/tensorflow/python/framework/ops.py\", line 1128, in __init__\n    self._traceback = _extract_stack()\n\n...which was originally created as op 'MaxPool_8', defined at:\n  File \"/home/carnd/anaconda3/envs/carnd-term1/lib/python3.5/runpy.py\", line 184, in _run_module_as_main\n    \"__main__\", mod_spec)\n[elided 18 identical lines from previous traceback]\n  File \"/home/carnd/anaconda3/envs/carnd-term1/lib/python3.5/site-packages/IPython/core/interactiveshell.py\", line 2881, in run_code\n    exec(code_obj, self.user_global_ns, self.user_ns)\n  File \"<ipython-input-17-e8d4ea649ede>\", line 7, in <module>\n    logits = model(x)\n  File \"<ipython-input-16-17d059af004a>\", line 7, in model\n    maxpool1 = tf.nn.max_pool(relu1, [1,2,2,1], [1,2,2,1], 'VALID')\n  File \"/home/carnd/anaconda3/envs/carnd-term1/lib/python3.5/site-packages/tensorflow/python/ops/nn_ops.py\", line 1617, in max_pool\n    name=name)\n  File \"/home/carnd/anaconda3/envs/carnd-term1/lib/python3.5/site-packages/tensorflow/python/ops/gen_nn_ops.py\", line 1598, in _max_pool\n    data_format=data_format, name=name)\n  File \"/home/carnd/anaconda3/envs/carnd-term1/lib/python3.5/site-packages/tensorflow/python/framework/op_def_library.py\", line 759, in apply_op\n    op_def=op_def)\n  File \"/home/carnd/anaconda3/envs/carnd-term1/lib/python3.5/site-packages/tensorflow/python/framework/ops.py\", line 2240, in create_op\n    original_op=self._default_original_op, op_def=op_def)\n  File \"/home/carnd/anaconda3/envs/carnd-term1/lib/python3.5/site-packages/tensorflow/python/framework/ops.py\", line 1128, in __init__\n    self._traceback = _extract_stack()\n\nResourceExhaustedError (see above for traceback): OOM when allocating tensor with shape[9802,20,14,14]\n\t [[Node: gradients_2/MaxPool_8_grad/MaxPoolGrad = MaxPoolGrad[T=DT_FLOAT, data_format=\"NHWC\", ksize=[1, 2, 2, 1], padding=\"VALID\", strides=[1, 2, 2, 1], _device=\"/job:localhost/replica:0/task:0/gpu:0\"](Relu_8, MaxPool_8, gradients_2/Conv2D_9_grad/tuple/control_dependency)]]\n",
     "output_type": "error",
     "traceback": [
      "\u001b[0;31m---------------------------------------------------------------------------\u001b[0m",
      "\u001b[0;31mResourceExhaustedError\u001b[0m                    Traceback (most recent call last)",
      "\u001b[0;32m/home/carnd/anaconda3/envs/carnd-term1/lib/python3.5/site-packages/tensorflow/python/client/session.py\u001b[0m in \u001b[0;36m_do_call\u001b[0;34m(self, fn, *args)\u001b[0m\n\u001b[1;32m   1020\u001b[0m     \u001b[0;32mtry\u001b[0m\u001b[0;34m:\u001b[0m\u001b[0;34m\u001b[0m\u001b[0m\n\u001b[0;32m-> 1021\u001b[0;31m       \u001b[0;32mreturn\u001b[0m \u001b[0mfn\u001b[0m\u001b[0;34m(\u001b[0m\u001b[0;34m*\u001b[0m\u001b[0margs\u001b[0m\u001b[0;34m)\u001b[0m\u001b[0;34m\u001b[0m\u001b[0m\n\u001b[0m\u001b[1;32m   1022\u001b[0m     \u001b[0;32mexcept\u001b[0m \u001b[0merrors\u001b[0m\u001b[0;34m.\u001b[0m\u001b[0mOpError\u001b[0m \u001b[0;32mas\u001b[0m \u001b[0me\u001b[0m\u001b[0;34m:\u001b[0m\u001b[0;34m\u001b[0m\u001b[0m\n",
      "\u001b[0;32m/home/carnd/anaconda3/envs/carnd-term1/lib/python3.5/site-packages/tensorflow/python/client/session.py\u001b[0m in \u001b[0;36m_run_fn\u001b[0;34m(session, feed_dict, fetch_list, target_list, options, run_metadata)\u001b[0m\n\u001b[1;32m   1002\u001b[0m                                  \u001b[0mfeed_dict\u001b[0m\u001b[0;34m,\u001b[0m \u001b[0mfetch_list\u001b[0m\u001b[0;34m,\u001b[0m \u001b[0mtarget_list\u001b[0m\u001b[0;34m,\u001b[0m\u001b[0;34m\u001b[0m\u001b[0m\n\u001b[0;32m-> 1003\u001b[0;31m                                  status, run_metadata)\n\u001b[0m\u001b[1;32m   1004\u001b[0m \u001b[0;34m\u001b[0m\u001b[0m\n",
      "\u001b[0;32m/home/carnd/anaconda3/envs/carnd-term1/lib/python3.5/contextlib.py\u001b[0m in \u001b[0;36m__exit__\u001b[0;34m(self, type, value, traceback)\u001b[0m\n\u001b[1;32m     65\u001b[0m             \u001b[0;32mtry\u001b[0m\u001b[0;34m:\u001b[0m\u001b[0;34m\u001b[0m\u001b[0m\n\u001b[0;32m---> 66\u001b[0;31m                 \u001b[0mnext\u001b[0m\u001b[0;34m(\u001b[0m\u001b[0mself\u001b[0m\u001b[0;34m.\u001b[0m\u001b[0mgen\u001b[0m\u001b[0;34m)\u001b[0m\u001b[0;34m\u001b[0m\u001b[0m\n\u001b[0m\u001b[1;32m     67\u001b[0m             \u001b[0;32mexcept\u001b[0m \u001b[0mStopIteration\u001b[0m\u001b[0;34m:\u001b[0m\u001b[0;34m\u001b[0m\u001b[0m\n",
      "\u001b[0;32m/home/carnd/anaconda3/envs/carnd-term1/lib/python3.5/site-packages/tensorflow/python/framework/errors_impl.py\u001b[0m in \u001b[0;36mraise_exception_on_not_ok_status\u001b[0;34m()\u001b[0m\n\u001b[1;32m    468\u001b[0m           \u001b[0mcompat\u001b[0m\u001b[0;34m.\u001b[0m\u001b[0mas_text\u001b[0m\u001b[0;34m(\u001b[0m\u001b[0mpywrap_tensorflow\u001b[0m\u001b[0;34m.\u001b[0m\u001b[0mTF_Message\u001b[0m\u001b[0;34m(\u001b[0m\u001b[0mstatus\u001b[0m\u001b[0;34m)\u001b[0m\u001b[0;34m)\u001b[0m\u001b[0;34m,\u001b[0m\u001b[0;34m\u001b[0m\u001b[0m\n\u001b[0;32m--> 469\u001b[0;31m           pywrap_tensorflow.TF_GetCode(status))\n\u001b[0m\u001b[1;32m    470\u001b[0m   \u001b[0;32mfinally\u001b[0m\u001b[0;34m:\u001b[0m\u001b[0;34m\u001b[0m\u001b[0m\n",
      "\u001b[0;31mResourceExhaustedError\u001b[0m: OOM when allocating tensor with shape[9802,20,14,14]\n\t [[Node: gradients_2/MaxPool_8_grad/MaxPoolGrad = MaxPoolGrad[T=DT_FLOAT, data_format=\"NHWC\", ksize=[1, 2, 2, 1], padding=\"VALID\", strides=[1, 2, 2, 1], _device=\"/job:localhost/replica:0/task:0/gpu:0\"](Relu_8, MaxPool_8, gradients_2/Conv2D_9_grad/tuple/control_dependency)]]",
      "\nDuring handling of the above exception, another exception occurred:\n",
      "\u001b[0;31mResourceExhaustedError\u001b[0m                    Traceback (most recent call last)",
      "\u001b[0;32m<ipython-input-30-7763be2fc78f>\u001b[0m in \u001b[0;36m<module>\u001b[0;34m()\u001b[0m\n\u001b[1;32m     13\u001b[0m         \u001b[0;32mfor\u001b[0m \u001b[0mb\u001b[0m \u001b[0;32min\u001b[0m \u001b[0mrange\u001b[0m\u001b[0;34m(\u001b[0m\u001b[0mbatch_n\u001b[0m\u001b[0;34m)\u001b[0m\u001b[0;34m:\u001b[0m\u001b[0;34m\u001b[0m\u001b[0m\n\u001b[1;32m     14\u001b[0m             \u001b[0mx_batch\u001b[0m\u001b[0;34m,\u001b[0m \u001b[0my_batch\u001b[0m \u001b[0;34m=\u001b[0m \u001b[0mxt\u001b[0m\u001b[0;34m[\u001b[0m\u001b[0mb\u001b[0m\u001b[0;34m:\u001b[0m\u001b[0;34m(\u001b[0m\u001b[0mb\u001b[0m\u001b[0;34m+\u001b[0m\u001b[0;36m1\u001b[0m\u001b[0;34m)\u001b[0m \u001b[0;34m*\u001b[0m \u001b[0mbatch_size\u001b[0m\u001b[0;34m]\u001b[0m\u001b[0;34m,\u001b[0m \u001b[0myt\u001b[0m\u001b[0;34m[\u001b[0m\u001b[0mb\u001b[0m\u001b[0;34m:\u001b[0m\u001b[0;34m(\u001b[0m\u001b[0mb\u001b[0m\u001b[0;34m+\u001b[0m\u001b[0;36m1\u001b[0m\u001b[0;34m)\u001b[0m \u001b[0;34m*\u001b[0m \u001b[0mbatch_size\u001b[0m\u001b[0;34m]\u001b[0m\u001b[0;34m\u001b[0m\u001b[0m\n\u001b[0;32m---> 15\u001b[0;31m             \u001b[0msess\u001b[0m\u001b[0;34m.\u001b[0m\u001b[0mrun\u001b[0m\u001b[0;34m(\u001b[0m\u001b[0moptimizer\u001b[0m\u001b[0;34m,\u001b[0m \u001b[0mfeed_dict\u001b[0m\u001b[0;34m=\u001b[0m\u001b[0;34m{\u001b[0m\u001b[0mx\u001b[0m\u001b[0;34m:\u001b[0m \u001b[0mx_batch\u001b[0m\u001b[0;34m,\u001b[0m \u001b[0my\u001b[0m\u001b[0;34m:\u001b[0m \u001b[0my_batch\u001b[0m\u001b[0;34m}\u001b[0m\u001b[0;34m)\u001b[0m\u001b[0;34m\u001b[0m\u001b[0m\n\u001b[0m\u001b[1;32m     16\u001b[0m             \u001b[0mlost\u001b[0m \u001b[0;34m=\u001b[0m \u001b[0msess\u001b[0m\u001b[0;34m.\u001b[0m\u001b[0mrun\u001b[0m\u001b[0;34m(\u001b[0m\u001b[0mcost\u001b[0m\u001b[0;34m,\u001b[0m \u001b[0mfeed_dict\u001b[0m\u001b[0;34m=\u001b[0m\u001b[0;34m{\u001b[0m\u001b[0mx\u001b[0m\u001b[0;34m:\u001b[0m \u001b[0mx_batch\u001b[0m\u001b[0;34m,\u001b[0m \u001b[0my\u001b[0m\u001b[0;34m:\u001b[0m \u001b[0my_batch\u001b[0m\u001b[0;34m}\u001b[0m\u001b[0;34m)\u001b[0m\u001b[0;34m\u001b[0m\u001b[0m\n\u001b[1;32m     17\u001b[0m             \u001b[0macc_b\u001b[0m \u001b[0;34m=\u001b[0m \u001b[0msess\u001b[0m\u001b[0;34m.\u001b[0m\u001b[0mrun\u001b[0m\u001b[0;34m(\u001b[0m\u001b[0maccuracy\u001b[0m\u001b[0;34m,\u001b[0m \u001b[0mfeed_dict\u001b[0m\u001b[0;34m=\u001b[0m\u001b[0;34m{\u001b[0m\u001b[0mx\u001b[0m\u001b[0;34m:\u001b[0m \u001b[0mx_batch\u001b[0m\u001b[0;34m,\u001b[0m \u001b[0my\u001b[0m\u001b[0;34m:\u001b[0m \u001b[0my_batch\u001b[0m\u001b[0;34m}\u001b[0m\u001b[0;34m)\u001b[0m\u001b[0;34m\u001b[0m\u001b[0m\n",
      "\u001b[0;32m/home/carnd/anaconda3/envs/carnd-term1/lib/python3.5/site-packages/tensorflow/python/client/session.py\u001b[0m in \u001b[0;36mrun\u001b[0;34m(self, fetches, feed_dict, options, run_metadata)\u001b[0m\n\u001b[1;32m    764\u001b[0m     \u001b[0;32mtry\u001b[0m\u001b[0;34m:\u001b[0m\u001b[0;34m\u001b[0m\u001b[0m\n\u001b[1;32m    765\u001b[0m       result = self._run(None, fetches, feed_dict, options_ptr,\n\u001b[0;32m--> 766\u001b[0;31m                          run_metadata_ptr)\n\u001b[0m\u001b[1;32m    767\u001b[0m       \u001b[0;32mif\u001b[0m \u001b[0mrun_metadata\u001b[0m\u001b[0;34m:\u001b[0m\u001b[0;34m\u001b[0m\u001b[0m\n\u001b[1;32m    768\u001b[0m         \u001b[0mproto_data\u001b[0m \u001b[0;34m=\u001b[0m \u001b[0mtf_session\u001b[0m\u001b[0;34m.\u001b[0m\u001b[0mTF_GetBuffer\u001b[0m\u001b[0;34m(\u001b[0m\u001b[0mrun_metadata_ptr\u001b[0m\u001b[0;34m)\u001b[0m\u001b[0;34m\u001b[0m\u001b[0m\n",
      "\u001b[0;32m/home/carnd/anaconda3/envs/carnd-term1/lib/python3.5/site-packages/tensorflow/python/client/session.py\u001b[0m in \u001b[0;36m_run\u001b[0;34m(self, handle, fetches, feed_dict, options, run_metadata)\u001b[0m\n\u001b[1;32m    962\u001b[0m     \u001b[0;32mif\u001b[0m \u001b[0mfinal_fetches\u001b[0m \u001b[0;32mor\u001b[0m \u001b[0mfinal_targets\u001b[0m\u001b[0;34m:\u001b[0m\u001b[0;34m\u001b[0m\u001b[0m\n\u001b[1;32m    963\u001b[0m       results = self._do_run(handle, final_targets, final_fetches,\n\u001b[0;32m--> 964\u001b[0;31m                              feed_dict_string, options, run_metadata)\n\u001b[0m\u001b[1;32m    965\u001b[0m     \u001b[0;32melse\u001b[0m\u001b[0;34m:\u001b[0m\u001b[0;34m\u001b[0m\u001b[0m\n\u001b[1;32m    966\u001b[0m       \u001b[0mresults\u001b[0m \u001b[0;34m=\u001b[0m \u001b[0;34m[\u001b[0m\u001b[0;34m]\u001b[0m\u001b[0;34m\u001b[0m\u001b[0m\n",
      "\u001b[0;32m/home/carnd/anaconda3/envs/carnd-term1/lib/python3.5/site-packages/tensorflow/python/client/session.py\u001b[0m in \u001b[0;36m_do_run\u001b[0;34m(self, handle, target_list, fetch_list, feed_dict, options, run_metadata)\u001b[0m\n\u001b[1;32m   1012\u001b[0m     \u001b[0;32mif\u001b[0m \u001b[0mhandle\u001b[0m \u001b[0;32mis\u001b[0m \u001b[0;32mNone\u001b[0m\u001b[0;34m:\u001b[0m\u001b[0;34m\u001b[0m\u001b[0m\n\u001b[1;32m   1013\u001b[0m       return self._do_call(_run_fn, self._session, feed_dict, fetch_list,\n\u001b[0;32m-> 1014\u001b[0;31m                            target_list, options, run_metadata)\n\u001b[0m\u001b[1;32m   1015\u001b[0m     \u001b[0;32melse\u001b[0m\u001b[0;34m:\u001b[0m\u001b[0;34m\u001b[0m\u001b[0m\n\u001b[1;32m   1016\u001b[0m       return self._do_call(_prun_fn, self._session, handle, feed_dict,\n",
      "\u001b[0;32m/home/carnd/anaconda3/envs/carnd-term1/lib/python3.5/site-packages/tensorflow/python/client/session.py\u001b[0m in \u001b[0;36m_do_call\u001b[0;34m(self, fn, *args)\u001b[0m\n\u001b[1;32m   1032\u001b[0m         \u001b[0;32mexcept\u001b[0m \u001b[0mKeyError\u001b[0m\u001b[0;34m:\u001b[0m\u001b[0;34m\u001b[0m\u001b[0m\n\u001b[1;32m   1033\u001b[0m           \u001b[0;32mpass\u001b[0m\u001b[0;34m\u001b[0m\u001b[0m\n\u001b[0;32m-> 1034\u001b[0;31m       \u001b[0;32mraise\u001b[0m \u001b[0mtype\u001b[0m\u001b[0;34m(\u001b[0m\u001b[0me\u001b[0m\u001b[0;34m)\u001b[0m\u001b[0;34m(\u001b[0m\u001b[0mnode_def\u001b[0m\u001b[0;34m,\u001b[0m \u001b[0mop\u001b[0m\u001b[0;34m,\u001b[0m \u001b[0mmessage\u001b[0m\u001b[0;34m)\u001b[0m\u001b[0;34m\u001b[0m\u001b[0m\n\u001b[0m\u001b[1;32m   1035\u001b[0m \u001b[0;34m\u001b[0m\u001b[0m\n\u001b[1;32m   1036\u001b[0m   \u001b[0;32mdef\u001b[0m \u001b[0m_extend_graph\u001b[0m\u001b[0;34m(\u001b[0m\u001b[0mself\u001b[0m\u001b[0;34m)\u001b[0m\u001b[0;34m:\u001b[0m\u001b[0;34m\u001b[0m\u001b[0m\n",
      "\u001b[0;31mResourceExhaustedError\u001b[0m: OOM when allocating tensor with shape[9802,20,14,14]\n\t [[Node: gradients_2/MaxPool_8_grad/MaxPoolGrad = MaxPoolGrad[T=DT_FLOAT, data_format=\"NHWC\", ksize=[1, 2, 2, 1], padding=\"VALID\", strides=[1, 2, 2, 1], _device=\"/job:localhost/replica:0/task:0/gpu:0\"](Relu_8, MaxPool_8, gradients_2/Conv2D_9_grad/tuple/control_dependency)]]\n\nCaused by op 'gradients_2/MaxPool_8_grad/MaxPoolGrad', defined at:\n  File \"/home/carnd/anaconda3/envs/carnd-term1/lib/python3.5/runpy.py\", line 184, in _run_module_as_main\n    \"__main__\", mod_spec)\n  File \"/home/carnd/anaconda3/envs/carnd-term1/lib/python3.5/runpy.py\", line 85, in _run_code\n    exec(code, run_globals)\n  File \"/home/carnd/anaconda3/envs/carnd-term1/lib/python3.5/site-packages/ipykernel/__main__.py\", line 3, in <module>\n    app.launch_new_instance()\n  File \"/home/carnd/anaconda3/envs/carnd-term1/lib/python3.5/site-packages/traitlets/config/application.py\", line 653, in launch_instance\n    app.start()\n  File \"/home/carnd/anaconda3/envs/carnd-term1/lib/python3.5/site-packages/ipykernel/kernelapp.py\", line 474, in start\n    ioloop.IOLoop.instance().start()\n  File \"/home/carnd/anaconda3/envs/carnd-term1/lib/python3.5/site-packages/zmq/eventloop/ioloop.py\", line 177, in start\n    super(ZMQIOLoop, self).start()\n  File \"/home/carnd/anaconda3/envs/carnd-term1/lib/python3.5/site-packages/tornado/ioloop.py\", line 887, in start\n    handler_func(fd_obj, events)\n  File \"/home/carnd/anaconda3/envs/carnd-term1/lib/python3.5/site-packages/tornado/stack_context.py\", line 275, in null_wrapper\n    return fn(*args, **kwargs)\n  File \"/home/carnd/anaconda3/envs/carnd-term1/lib/python3.5/site-packages/zmq/eventloop/zmqstream.py\", line 440, in _handle_events\n    self._handle_recv()\n  File \"/home/carnd/anaconda3/envs/carnd-term1/lib/python3.5/site-packages/zmq/eventloop/zmqstream.py\", line 472, in _handle_recv\n    self._run_callback(callback, msg)\n  File \"/home/carnd/anaconda3/envs/carnd-term1/lib/python3.5/site-packages/zmq/eventloop/zmqstream.py\", line 414, in _run_callback\n    callback(*args, **kwargs)\n  File \"/home/carnd/anaconda3/envs/carnd-term1/lib/python3.5/site-packages/tornado/stack_context.py\", line 275, in null_wrapper\n    return fn(*args, **kwargs)\n  File \"/home/carnd/anaconda3/envs/carnd-term1/lib/python3.5/site-packages/ipykernel/kernelbase.py\", line 276, in dispatcher\n    return self.dispatch_shell(stream, msg)\n  File \"/home/carnd/anaconda3/envs/carnd-term1/lib/python3.5/site-packages/ipykernel/kernelbase.py\", line 228, in dispatch_shell\n    handler(stream, idents, msg)\n  File \"/home/carnd/anaconda3/envs/carnd-term1/lib/python3.5/site-packages/ipykernel/kernelbase.py\", line 390, in execute_request\n    user_expressions, allow_stdin)\n  File \"/home/carnd/anaconda3/envs/carnd-term1/lib/python3.5/site-packages/ipykernel/ipkernel.py\", line 196, in do_execute\n    res = shell.run_cell(code, store_history=store_history, silent=silent)\n  File \"/home/carnd/anaconda3/envs/carnd-term1/lib/python3.5/site-packages/ipykernel/zmqshell.py\", line 501, in run_cell\n    return super(ZMQInteractiveShell, self).run_cell(*args, **kwargs)\n  File \"/home/carnd/anaconda3/envs/carnd-term1/lib/python3.5/site-packages/IPython/core/interactiveshell.py\", line 2717, in run_cell\n    interactivity=interactivity, compiler=compiler, result=result)\n  File \"/home/carnd/anaconda3/envs/carnd-term1/lib/python3.5/site-packages/IPython/core/interactiveshell.py\", line 2821, in run_ast_nodes\n    if self.run_code(code, result):\n  File \"/home/carnd/anaconda3/envs/carnd-term1/lib/python3.5/site-packages/IPython/core/interactiveshell.py\", line 2881, in run_code\n    exec(code_obj, self.user_global_ns, self.user_ns)\n  File \"<ipython-input-17-e8d4ea649ede>\", line 11, in <module>\n    optimizer = tf.train.AdamOptimizer(learning_rate = rate, name=\"optimizer\").minimize(cost)\n  File \"/home/carnd/anaconda3/envs/carnd-term1/lib/python3.5/site-packages/tensorflow/python/training/optimizer.py\", line 269, in minimize\n    grad_loss=grad_loss)\n  File \"/home/carnd/anaconda3/envs/carnd-term1/lib/python3.5/site-packages/tensorflow/python/training/optimizer.py\", line 335, in compute_gradients\n    colocate_gradients_with_ops=colocate_gradients_with_ops)\n  File \"/home/carnd/anaconda3/envs/carnd-term1/lib/python3.5/site-packages/tensorflow/python/ops/gradients_impl.py\", line 482, in gradients\n    in_grads = grad_fn(op, *out_grads)\n  File \"/home/carnd/anaconda3/envs/carnd-term1/lib/python3.5/site-packages/tensorflow/python/ops/nn_grad.py\", line 404, in _MaxPoolGrad\n    data_format=op.get_attr(\"data_format\"))\n  File \"/home/carnd/anaconda3/envs/carnd-term1/lib/python3.5/site-packages/tensorflow/python/ops/gen_nn_ops.py\", line 1697, in _max_pool_grad\n    data_format=data_format, name=name)\n  File \"/home/carnd/anaconda3/envs/carnd-term1/lib/python3.5/site-packages/tensorflow/python/framework/op_def_library.py\", line 759, in apply_op\n    op_def=op_def)\n  File \"/home/carnd/anaconda3/envs/carnd-term1/lib/python3.5/site-packages/tensorflow/python/framework/ops.py\", line 2240, in create_op\n    original_op=self._default_original_op, op_def=op_def)\n  File \"/home/carnd/anaconda3/envs/carnd-term1/lib/python3.5/site-packages/tensorflow/python/framework/ops.py\", line 1128, in __init__\n    self._traceback = _extract_stack()\n\n...which was originally created as op 'MaxPool_8', defined at:\n  File \"/home/carnd/anaconda3/envs/carnd-term1/lib/python3.5/runpy.py\", line 184, in _run_module_as_main\n    \"__main__\", mod_spec)\n[elided 18 identical lines from previous traceback]\n  File \"/home/carnd/anaconda3/envs/carnd-term1/lib/python3.5/site-packages/IPython/core/interactiveshell.py\", line 2881, in run_code\n    exec(code_obj, self.user_global_ns, self.user_ns)\n  File \"<ipython-input-17-e8d4ea649ede>\", line 7, in <module>\n    logits = model(x)\n  File \"<ipython-input-16-17d059af004a>\", line 7, in model\n    maxpool1 = tf.nn.max_pool(relu1, [1,2,2,1], [1,2,2,1], 'VALID')\n  File \"/home/carnd/anaconda3/envs/carnd-term1/lib/python3.5/site-packages/tensorflow/python/ops/nn_ops.py\", line 1617, in max_pool\n    name=name)\n  File \"/home/carnd/anaconda3/envs/carnd-term1/lib/python3.5/site-packages/tensorflow/python/ops/gen_nn_ops.py\", line 1598, in _max_pool\n    data_format=data_format, name=name)\n  File \"/home/carnd/anaconda3/envs/carnd-term1/lib/python3.5/site-packages/tensorflow/python/framework/op_def_library.py\", line 759, in apply_op\n    op_def=op_def)\n  File \"/home/carnd/anaconda3/envs/carnd-term1/lib/python3.5/site-packages/tensorflow/python/framework/ops.py\", line 2240, in create_op\n    original_op=self._default_original_op, op_def=op_def)\n  File \"/home/carnd/anaconda3/envs/carnd-term1/lib/python3.5/site-packages/tensorflow/python/framework/ops.py\", line 1128, in __init__\n    self._traceback = _extract_stack()\n\nResourceExhaustedError (see above for traceback): OOM when allocating tensor with shape[9802,20,14,14]\n\t [[Node: gradients_2/MaxPool_8_grad/MaxPoolGrad = MaxPoolGrad[T=DT_FLOAT, data_format=\"NHWC\", ksize=[1, 2, 2, 1], padding=\"VALID\", strides=[1, 2, 2, 1], _device=\"/job:localhost/replica:0/task:0/gpu:0\"](Relu_8, MaxPool_8, gradients_2/Conv2D_9_grad/tuple/control_dependency)]]\n"
     ]
    }
   ],
   "source": [
    "batch_size = 100\n",
    "batch_n = int(len(xt)/batch_size)\n",
    "epochs = 3\n",
    "init = tf.global_variables_initializer()\n",
    "\n",
    "ab = []\n",
    "at = []\n",
    "av = []\n",
    "\n",
    "with tf.Session() as sess:\n",
    "    sess.run(init)\n",
    "    for e in range(epochs):\n",
    "        for b in range(batch_n):\n",
    "            x_batch, y_batch = xt[b:(b+1) * batch_size], yt[b:(b+1) * batch_size]\n",
    "            sess.run(optimizer, feed_dict={x: x_batch, y: y_batch})\n",
    "            lost = sess.run(cost, feed_dict={x: x_batch, y: y_batch})\n",
    "            acc_b = sess.run(accuracy, feed_dict={x: x_batch, y: y_batch})\n",
    "            acc_ft = sess.run(accuracy, feed_dict={x: xt, y: yt})\n",
    "            acc_val = sess.run(accuracy, feed_dict={x: xv, y:yv})\n",
    "            \n",
    "            ab.append(acc_b)\n",
    "            at.append(acc_ft)\n",
    "            av.append(acc_val)\n",
    "            print (\"e: {}, b: {}/{}, lost : {}, acc: {}, {}, acc_val: {}\".format(e, b, batch_n, lost, acc_b, acc_ft, acc_val))\n",
    "\n",
    "        \n",
    "        \n",
    "    \"\"\"for u in range(nt):\n",
    "        pr = sess.run(pred, feed_dict={x: xt[u].reshape((1,32,32,3))})\n",
    "        print(yt[u], pr)\"\"\"\n",
    "  \n",
    "    print(\"done.\")\n",
    "    \n",
    "plt.plot(ab)\n",
    "plt.plot(at)\n",
    "plt.plot(av)\n",
    "plt.show()"
   ]
  },
  {
   "cell_type": "code",
   "execution_count": null,
   "metadata": {
    "collapsed": true,
    "deletable": true,
    "editable": true
   },
   "outputs": [],
   "source": []
  },
  {
   "cell_type": "code",
   "execution_count": null,
   "metadata": {
    "collapsed": true
   },
   "outputs": [],
   "source": []
  }
 ],
 "metadata": {
  "kernelspec": {
   "display_name": "Python 3",
   "language": "python",
   "name": "python3"
  },
  "language_info": {
   "codemirror_mode": {
    "name": "ipython",
    "version": 3
   },
   "file_extension": ".py",
   "mimetype": "text/x-python",
   "name": "python",
   "nbconvert_exporter": "python",
   "pygments_lexer": "ipython3",
   "version": "3.5.2"
  },
  "widgets": {
   "state": {},
   "version": "1.1.2"
  }
 },
 "nbformat": 4,
 "nbformat_minor": 2
}
