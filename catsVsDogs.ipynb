{
 "cells": [
  {
   "cell_type": "code",
   "execution_count": 1,
   "metadata": {
    "collapsed": false,
    "deletable": true,
    "editable": true
   },
   "outputs": [
    {
     "name": "stdout",
     "output_type": "stream",
     "text": [
      "Loaded.\n"
     ]
    }
   ],
   "source": [
    "import pickle\n",
    "import numpy as np\n",
    "from sklearn.utils import shuffle\n",
    "\n",
    "d = pickle.load(open('train_data.p', 'rb'))\n",
    "train_x = np.array(d['train_x'], dtype=np.float32)\n",
    "train_y = np.array(d['train_y'])\n",
    "\n",
    "train_y[train_y == -1] = 0\n",
    "\n",
    "train_x, train_y = shuffle(train_x, train_y)\n",
    "train_x = train_x - 128\n",
    "train_x = train_x / 128\n",
    "\n",
    "print('Loaded.')"
   ]
  },
  {
   "cell_type": "code",
   "execution_count": 2,
   "metadata": {
    "collapsed": false,
    "deletable": true,
    "editable": true
   },
   "outputs": [
    {
     "name": "stdout",
     "output_type": "stream",
     "text": [
      "(25000, 32, 32, 3) (25000,)\n"
     ]
    }
   ],
   "source": [
    "print(train_x.shape, train_y.shape)"
   ]
  },
  {
   "cell_type": "code",
   "execution_count": 3,
   "metadata": {
    "collapsed": false,
    "deletable": true,
    "editable": true
   },
   "outputs": [
    {
     "name": "stdout",
     "output_type": "stream",
     "text": [
      "1 1 0 1\n",
      "0.992188 -1.0\n"
     ]
    },
    {
     "data": {
      "text/plain": [
       "<matplotlib.image.AxesImage at 0x11b803470>"
      ]
     },
     "execution_count": 3,
     "metadata": {},
     "output_type": "execute_result"
    },
    {
     "data": {
      "image/png": "[encoded data removed]",
      "text/plain": [
       "<matplotlib.figure.Figure at 0x1196a4400>"
      ]
     },
     "metadata": {},
     "output_type": "display_data"
    }
   ],
   "source": [
    "import matplotlib.pyplot as plt\n",
    "%matplotlib inline\n",
    "\n",
    "print(train_y[500], train_y[501], train_y[502], train_y[503])\n",
    "print (np.max(train_x), np.min(train_x))\n",
    "\n",
    "plt.subplot(411)\n",
    "plt.imshow(train_x[500])\n",
    "plt.subplot(412)\n",
    "plt.imshow(train_x[501])\n",
    "plt.subplot(413)\n",
    "plt.imshow(train_x[502])\n",
    "plt.subplot(414)\n",
    "plt.imshow(train_x[503])\n",
    "\n"
   ]
  },
  {
   "cell_type": "code",
   "execution_count": 4,
   "metadata": {
    "collapsed": false,
    "deletable": true,
    "editable": true
   },
   "outputs": [
    {
     "name": "stdout",
     "output_type": "stream",
     "text": [
      "Tensor(\"Add_1:0\", shape=(1, 2), dtype=float32)\n"
     ]
    }
   ],
   "source": [
    "import tensorflow as tf\n",
    "def model(x):\n",
    "    w_l1 = tf.Variable(tf.random_normal([4,4,3,20]))\n",
    "    b_l1 = tf.Variable(tf.random_normal([20]))\n",
    "    conv1 = tf.nn.conv2d(x, w_l1, [1,1,1,1], 'VALID') + b_l1\n",
    "    relu1 = tf.nn.relu(conv1)\n",
    "    maxpool1 = tf.nn.max_pool(relu1, [1,2,2,1], [1,2,2,1], 'VALID')\n",
    "    \n",
    "    w_l2 = tf.Variable(tf.random_normal([4,4,20,40]))\n",
    "    b_l2 = tf.Variable(tf.random_normal([40]))\n",
    "    conv2 = tf.nn.conv2d(maxpool1, w_l2, [1,1,1,1], 'VALID') + b_l2\n",
    "    relu2 = tf.nn.relu(conv2)\n",
    "    maxpool2 = tf.nn.max_pool(relu2, [1,2,2,1], [1,2,2,1], 'VALID')    \n",
    "    flat = tf.contrib.layers.flatten(maxpool2)\n",
    "\n",
    "    f1_w = tf.Variable(tf.random_normal([1000, 100]))\n",
    "    f1_b = tf.Variable(tf.random_normal([100]))\n",
    "    full1 = tf.add(tf.matmul(flat, f1_w), f1_b)\n",
    "    \n",
    "    f2_w = tf.Variable(tf.random_normal([100, 2]))\n",
    "    f2_b = tf.Variable(tf.random_normal([2]))\n",
    "    full2 = tf.add(tf.matmul(full1, f2_w), f2_b)\n",
    "    \n",
    "    return full2\n",
    "                       \n",
    "\n",
    "print(model(train_x[1].reshape((1,32,32,3))))\n",
    "    "
   ]
  },
  {
   "cell_type": "code",
   "execution_count": 28,
   "metadata": {
    "collapsed": false,
    "deletable": true,
    "editable": true
   },
   "outputs": [
    {
     "name": "stdout",
     "output_type": "stream",
     "text": [
      "(?, 2) (?,)\n"
     ]
    }
   ],
   "source": [
    "\n",
    "x = tf.placeholder(tf.float32, (None, 32, 32, 3))\n",
    "y = tf.placeholder(tf.int32, (None))\n",
    "\n",
    "rate = 0.001\n",
    "one_hot_y = tf.one_hot(y, 2)\n",
    "logits = model(x)\n",
    "\n",
    "cross_entropy = tf.nn.softmax_cross_entropy_with_logits(logits = logits, labels = one_hot_y)\n",
    "cost = tf.reduce_mean(cross_entropy)\n",
    "optimizer = tf.train.AdamOptimizer(learning_rate = rate, name=\"optimizer\").minimize(cost)\n",
    "\n",
    "correct_pred = tf.equal(tf.argmax(logits, 1), tf.argmax(one_hot_y, 1))\n",
    "accuracy = tf.reduce_mean(tf.cast(correct_pred, tf.float32))\n",
    "\n",
    "pred = tf.argmax(tf.nn.softmax(logits),1)\n",
    "print(logits.shape, pred.shape)"
   ]
  },
  {
   "cell_type": "code",
   "execution_count": 33,
   "metadata": {
    "collapsed": false,
    "deletable": true,
    "editable": true
   },
   "outputs": [
    {
     "name": "stdout",
     "output_type": "stream",
     "text": [
      "(2000, 32, 32, 3) (2000,) (500, 32, 32, 3) (500,)\n"
     ]
    }
   ],
   "source": [
    "nt = 2000\n",
    "validation_size = 500\n",
    "\n",
    "xt = train_x[0:nt]\n",
    "yt = train_y[0:nt]\n",
    "\n",
    "xv = train_x[-validation_size:]\n",
    "yv = train_y[-validation_size:]\n",
    "\n",
    "print (xt.shape, yt.shape, xv.shape, yv.shape)"
   ]
  },
  {
   "cell_type": "code",
   "execution_count": null,
   "metadata": {
    "collapsed": false,
    "deletable": true,
    "editable": true
   },
   "outputs": [
    {
     "name": "stdout",
     "output_type": "stream",
     "text": [
      "e: 0, b: 0/40, lost : 7384.84423828125, acc: 0.47999998927116394, 0.515999972820282, acc_val: 0.5400000214576721\n",
      "e: 0, b: 1/40, lost : 5514.00634765625, acc: 0.49494948983192444, 0.5164999961853027, acc_val: 0.5299999713897705\n",
      "e: 0, b: 2/40, lost : 4588.76416015625, acc: 0.5, 0.5095000267028809, acc_val: 0.527999997138977\n",
      "e: 0, b: 3/40, lost : 4458.623046875, acc: 0.5025380849838257, 0.5059999823570251, acc_val: 0.527999997138977\n",
      "e: 0, b: 4/40, lost : 4556.345703125, acc: 0.5243902206420898, 0.4984999895095825, acc_val: 0.5080000162124634\n",
      "e: 0, b: 5/40, lost : 4525.56884765625, acc: 0.508474588394165, 0.4964999854564667, acc_val: 0.4860000014305115\n",
      "e: 0, b: 6/40, lost : 4590.34228515625, acc: 0.520348846912384, 0.5040000081062317, acc_val: 0.48399999737739563\n",
      "e: 0, b: 7/40, lost : 4488.1748046875, acc: 0.5139949321746826, 0.5040000081062317, acc_val: 0.48399999737739563\n",
      "e: 0, b: 8/40, lost : 4297.533203125, acc: 0.5158371329307556, 0.5009999871253967, acc_val: 0.492000013589859\n",
      "e: 0, b: 9/40, lost : 3965.2373046875, acc: 0.5336048603057861, 0.5015000104904175, acc_val: 0.4860000014305115\n",
      "e: 0, b: 10/40, lost : 3600.515380859375, acc: 0.5444444417953491, 0.5065000057220459, acc_val: 0.492000013589859\n",
      "e: 0, b: 11/40, lost : 3335.37353515625, acc: 0.5517826676368713, 0.5130000114440918, acc_val: 0.5180000066757202\n",
      "e: 0, b: 12/40, lost : 3057.267822265625, acc: 0.5407523512840271, 0.5189999938011169, acc_val: 0.5379999876022339\n",
      "e: 0, b: 13/40, lost : 3025.99951171875, acc: 0.5473071336746216, 0.5375000238418579, acc_val: 0.5260000228881836\n",
      "e: 0, b: 14/40, lost : 3025.87841796875, acc: 0.539402186870575, 0.5379999876022339, acc_val: 0.5339999794960022\n",
      "e: 0, b: 15/40, lost : 3154.37890625, acc: 0.5324840545654297, 0.5360000133514404, acc_val: 0.5400000214576721\n",
      "e: 0, b: 16/40, lost : 3170.25244140625, acc: 0.528777003288269, 0.5335000157356262, acc_val: 0.5440000295639038\n",
      "e: 0, b: 17/40, lost : 3181.878173828125, acc: 0.5288788080215454, 0.5364999771118164, acc_val: 0.5460000038146973\n",
      "e: 0, b: 18/40, lost : 3106.154052734375, acc: 0.528969943523407, 0.5389999747276306, acc_val: 0.5479999780654907\n",
      "e: 0, b: 19/40, lost : 2969.12841796875, acc: 0.5310907363891602, 0.5404999852180481, acc_val: 0.5379999876022339\n",
      "e: 0, b: 20/40, lost : 2829.51220703125, acc: 0.5339806079864502, 0.5419999957084656, acc_val: 0.5320000052452087\n",
      "e: 0, b: 21/40, lost : 2712.363037109375, acc: 0.5366079807281494, 0.5410000085830688, acc_val: 0.5299999713897705\n",
      "e: 0, b: 22/40, lost : 2631.703857421875, acc: 0.542553186416626, 0.5444999933242798, acc_val: 0.5180000066757202\n",
      "e: 0, b: 23/40, lost : 2570.134033203125, acc: 0.5344095230102539, 0.527999997138977, acc_val: 0.5180000066757202\n",
      "e: 0, b: 24/40, lost : 2606.612548828125, acc: 0.5309951305389404, 0.5289999842643738, acc_val: 0.5139999985694885\n",
      "e: 0, b: 25/40, lost : 2606.793701171875, acc: 0.5341176390647888, 0.531000018119812, acc_val: 0.5220000147819519\n",
      "e: 0, b: 26/40, lost : 2545.5478515625, acc: 0.5347431898117065, 0.534500002861023, acc_val: 0.5180000066757202\n",
      "e: 0, b: 27/40, lost : 2529.36328125, acc: 0.5360524654388428, 0.531499981880188, acc_val: 0.5180000066757202\n",
      "e: 0, b: 28/40, lost : 2492.678466796875, acc: 0.5330520272254944, 0.5339999794960022, acc_val: 0.5180000066757202\n",
      "e: 0, b: 29/40, lost : 2395.995361328125, acc: 0.5309313535690308, 0.5329999923706055, acc_val: 0.515999972820282\n",
      "e: 0, b: 30/40, lost : 2313.1640625, acc: 0.5309210419654846, 0.5285000205039978, acc_val: 0.5220000147819519\n",
      "e: 0, b: 31/40, lost : 2241.051025390625, acc: 0.536010205745697, 0.5375000238418579, acc_val: 0.5220000147819519\n",
      "e: 0, b: 32/40, lost : 2193.11474609375, acc: 0.5426452159881592, 0.5450000166893005, acc_val: 0.5320000052452087\n",
      "e: 0, b: 33/40, lost : 2169.943359375, acc: 0.5404918789863586, 0.5414999723434448, acc_val: 0.5339999794960022\n",
      "e: 0, b: 34/40, lost : 2148.693359375, acc: 0.5466200709342957, 0.5479999780654907, acc_val: 0.5400000214576721\n",
      "e: 0, b: 35/40, lost : 2107.580078125, acc: 0.5444759130477905, 0.546500027179718, acc_val: 0.5479999780654907\n",
      "e: 0, b: 36/40, lost : 2041.4884033203125, acc: 0.5429989099502563, 0.5435000061988831, acc_val: 0.5519999861717224\n",
      "e: 0, b: 37/40, lost : 2002.6741943359375, acc: 0.5405260324478149, 0.5419999957084656, acc_val: 0.5440000295639038\n",
      "e: 0, b: 38/40, lost : 1969.3509521484375, acc: 0.5392259359359741, 0.5419999957084656, acc_val: 0.5460000038146973\n",
      "e: 0, b: 39/40, lost : 1937.6070556640625, acc: 0.5425803065299988, 0.5454999804496765, acc_val: 0.5339999794960022\n",
      "e: 1, b: 0/40, lost : 1320.147705078125, acc: 0.6600000262260437, 0.550000011920929, acc_val: 0.527999997138977\n",
      "e: 1, b: 1/40, lost : 1356.2183837890625, acc: 0.6868686676025391, 0.5569999814033508, acc_val: 0.5220000147819519\n",
      "e: 1, b: 2/40, lost : 1443.820556640625, acc: 0.6418918967247009, 0.5540000200271606, acc_val: 0.5120000243186951\n",
      "e: 1, b: 3/40, lost : 1590.117431640625, acc: 0.6040608882904053, 0.5479999780654907, acc_val: 0.5139999985694885\n",
      "e: 1, b: 4/40, lost : 1606.8992919921875, acc: 0.5853658318519592, 0.5490000247955322, acc_val: 0.5239999890327454\n",
      "e: 1, b: 5/40, lost : 1558.4556884765625, acc: 0.5898305177688599, 0.5509999990463257, acc_val: 0.5180000066757202\n",
      "e: 1, b: 6/40, lost : 1559.1500244140625, acc: 0.5959302186965942, 0.5559999942779541, acc_val: 0.5180000066757202\n",
      "e: 1, b: 7/40, lost : 1622.2802734375, acc: 0.5776081681251526, 0.5625, acc_val: 0.5239999890327454\n",
      "e: 1, b: 8/40, lost : 1656.0186767578125, acc: 0.5542986392974854, 0.5569999814033508, acc_val: 0.5339999794960022\n",
      "e: 1, b: 9/40, lost : 1658.445068359375, acc: 0.5763747692108154, 0.5540000200271606, acc_val: 0.550000011920929\n",
      "e: 1, b: 10/40, lost : 1704.8031005859375, acc: 0.5722222328186035, 0.550000011920929, acc_val: 0.5680000185966492\n",
      "e: 1, b: 11/40, lost : 1740.0054931640625, acc: 0.5619694590568542, 0.5485000014305115, acc_val: 0.5680000185966492\n",
      "e: 1, b: 12/40, lost : 1685.0372314453125, acc: 0.5736677050590515, 0.5519999861717224, acc_val: 0.5699999928474426\n",
      "e: 1, b: 13/40, lost : 1686.732666015625, acc: 0.5647743940353394, 0.5534999966621399, acc_val: 0.5699999928474426\n",
      "e: 1, b: 14/40, lost : 1669.28466796875, acc: 0.570652186870575, 0.5529999732971191, acc_val: 0.5640000104904175\n",
      "e: 1, b: 15/40, lost : 1661.447265625, acc: 0.5770700573921204, 0.5605000257492065, acc_val: 0.5360000133514404\n",
      "e: 1, b: 16/40, lost : 1685.4482421875, acc: 0.577937662601471, 0.565500020980835, acc_val: 0.5320000052452087\n",
      "e: 1, b: 17/40, lost : 1703.7000732421875, acc: 0.5753114223480225, 0.5680000185966492, acc_val: 0.5339999794960022\n",
      "e: 1, b: 18/40, lost : 1666.1468505859375, acc: 0.5740343332290649, 0.5674999952316284, acc_val: 0.5239999890327454\n",
      "e: 1, b: 19/40, lost : 1662.9193115234375, acc: 0.574923574924469, 0.5665000081062317, acc_val: 0.5260000228881836\n",
      "e: 1, b: 20/40, lost : 1653.2213134765625, acc: 0.5776699185371399, 0.5680000185966492, acc_val: 0.5299999713897705\n",
      "e: 1, b: 21/40, lost : 1625.1104736328125, acc: 0.5792400240898132, 0.5705000162124634, acc_val: 0.5320000052452087\n",
      "e: 1, b: 22/40, lost : 1603.5618896484375, acc: 0.5753546357154846, 0.5699999928474426, acc_val: 0.5339999794960022\n",
      "e: 1, b: 23/40, lost : 1594.416015625, acc: 0.5777400135993958, 0.5730000138282776, acc_val: 0.5440000295639038\n",
      "e: 1, b: 24/40, lost : 1605.4793701171875, acc: 0.5799347758293152, 0.5715000033378601, acc_val: 0.5479999780654907\n",
      "e: 1, b: 25/40, lost : 1611.8443603515625, acc: 0.5764706134796143, 0.5720000267028809, acc_val: 0.5659999847412109\n",
      "e: 1, b: 26/40, lost : 1590.207275390625, acc: 0.5770393013954163, 0.5724999904632568, acc_val: 0.5699999928474426\n",
      "e: 1, b: 27/40, lost : 1598.798828125, acc: 0.5812090039253235, 0.5730000138282776, acc_val: 0.5699999928474426\n",
      "e: 1, b: 28/40, lost : 1609.697021484375, acc: 0.5801687836647034, 0.574999988079071, acc_val: 0.5619999766349792\n",
      "e: 1, b: 29/40, lost : 1578.673828125, acc: 0.5846363306045532, 0.5799999833106995, acc_val: 0.5559999942779541\n",
      "e: 1, b: 30/40, lost : 1563.697998046875, acc: 0.5802631378173828, 0.578499972820282, acc_val: 0.5540000200271606\n",
      "e: 1, b: 31/40, lost : 1552.62109375, acc: 0.5780752301216125, 0.5770000219345093, acc_val: 0.5460000038146973\n",
      "e: 1, b: 32/40, lost : 1538.2694091796875, acc: 0.5754017233848572, 0.5759999752044678, acc_val: 0.5460000038146973\n",
      "e: 1, b: 33/40, lost : 1525.8482666015625, acc: 0.5728853940963745, 0.5759999752044678, acc_val: 0.5440000295639038\n",
      "e: 1, b: 34/40, lost : 1508.0235595703125, acc: 0.5693473219871521, 0.5740000009536743, acc_val: 0.5460000038146973\n",
      "e: 1, b: 35/40, lost : 1482.0648193359375, acc: 0.5733711123466492, 0.5789999961853027, acc_val: 0.5479999780654907\n",
      "e: 1, b: 36/40, lost : 1451.14990234375, acc: 0.5804851055145264, 0.5820000171661377, acc_val: 0.5519999861717224\n",
      "e: 1, b: 37/40, lost : 1449.70849609375, acc: 0.5807836651802063, 0.5835000276565552, acc_val: 0.5559999942779541\n",
      "e: 1, b: 38/40, lost : 1441.152099609375, acc: 0.5768828392028809, 0.5814999938011169, acc_val: 0.5600000023841858\n",
      "e: 1, b: 39/40, lost : 1430.219970703125, acc: 0.5777664184570312, 0.5809999704360962, acc_val: 0.5740000009536743\n",
      "e: 2, b: 0/40, lost : 835.66064453125, acc: 0.7599999904632568, 0.5830000042915344, acc_val: 0.5619999766349792\n",
      "e: 2, b: 1/40, lost : 891.2005004882812, acc: 0.7070707082748413, 0.5879999995231628, acc_val: 0.5559999942779541\n",
      "e: 2, b: 2/40, lost : 831.3291625976562, acc: 0.7432432174682617, 0.590499997138977, acc_val: 0.5519999861717224\n",
      "e: 2, b: 3/40, lost : 938.7545776367188, acc: 0.6954314708709717, 0.593500018119812, acc_val: 0.5460000038146973\n",
      "e: 2, b: 4/40, lost : 944.7686157226562, acc: 0.6666666865348816, 0.5924999713897705, acc_val: 0.5460000038146973\n",
      "e: 2, b: 5/40, lost : 939.8087768554688, acc: 0.6610169410705566, 0.593500018119812, acc_val: 0.5379999876022339\n",
      "e: 2, b: 6/40, lost : 959.5174560546875, acc: 0.6715116500854492, 0.6004999876022339, acc_val: 0.5419999957084656\n",
      "e: 2, b: 7/40, lost : 1018.3603515625, acc: 0.6641221642494202, 0.5964999794960022, acc_val: 0.5519999861717224\n",
      "e: 2, b: 8/40, lost : 1078.583251953125, acc: 0.6176470518112183, 0.5870000123977661, acc_val: 0.5559999942779541\n",
      "e: 2, b: 9/40, lost : 1098.30908203125, acc: 0.6211812496185303, 0.5889999866485596, acc_val: 0.5580000281333923\n",
      "e: 2, b: 10/40, lost : 1145.5924072265625, acc: 0.6185185313224792, 0.5864999890327454, acc_val: 0.5680000185966492\n",
      "e: 2, b: 11/40, lost : 1170.421142578125, acc: 0.6146010160446167, 0.5855000019073486, acc_val: 0.5659999847412109\n",
      "e: 2, b: 12/40, lost : 1126.1148681640625, acc: 0.6238244771957397, 0.5899999737739563, acc_val: 0.5640000104904175\n",
      "e: 2, b: 13/40, lost : 1135.329833984375, acc: 0.6331877708435059, 0.5950000286102295, acc_val: 0.5619999766349792\n",
      "e: 2, b: 14/40, lost : 1156.3265380859375, acc: 0.635869562625885, 0.5989999771118164, acc_val: 0.5619999766349792\n",
      "e: 2, b: 15/40, lost : 1172.175537109375, acc: 0.6382165551185608, 0.6044999957084656, acc_val: 0.5479999780654907\n",
      "e: 2, b: 16/40, lost : 1192.77197265625, acc: 0.6306954622268677, 0.6044999957084656, acc_val: 0.5479999780654907\n",
      "e: 2, b: 17/40, lost : 1211.958984375, acc: 0.626274049282074, 0.6054999828338623, acc_val: 0.550000011920929\n",
      "e: 2, b: 18/40, lost : 1175.3626708984375, acc: 0.6223176121711731, 0.6035000085830688, acc_val: 0.5600000023841858\n",
      "e: 2, b: 19/40, lost : 1165.9886474609375, acc: 0.6187563538551331, 0.6029999852180481, acc_val: 0.5619999766349792\n",
      "e: 2, b: 20/40, lost : 1167.325927734375, acc: 0.6126213669776917, 0.5945000052452087, acc_val: 0.5659999847412109\n",
      "e: 2, b: 21/40, lost : 1159.8642578125, acc: 0.6079703569412231, 0.5929999947547913, acc_val: 0.5659999847412109\n",
      "e: 2, b: 22/40, lost : 1153.0296630859375, acc: 0.61258864402771, 0.5954999923706055, acc_val: 0.5640000104904175\n",
      "e: 2, b: 23/40, lost : 1152.1796875, acc: 0.6151232123374939, 0.5979999899864197, acc_val: 0.5680000185966492\n",
      "e: 2, b: 24/40, lost : 1169.605712890625, acc: 0.6117455363273621, 0.5995000004768372, acc_val: 0.5659999847412109\n",
      "e: 2, b: 25/40, lost : 1164.87939453125, acc: 0.6109803915023804, 0.5995000004768372, acc_val: 0.5580000281333923\n",
      "e: 2, b: 26/40, lost : 1148.5177001953125, acc: 0.6095166206359863, 0.5989999771118164, acc_val: 0.5580000281333923\n",
      "e: 2, b: 27/40, lost : 1165.181640625, acc: 0.6081573367118835, 0.5954999923706055, acc_val: 0.5600000023841858\n",
      "e: 2, b: 28/40, lost : 1191.0079345703125, acc: 0.6068916916847229, 0.597000002861023, acc_val: 0.5659999847412109\n",
      "e: 2, b: 29/40, lost : 1170.928955078125, acc: 0.6036709547042847, 0.5950000286102295, acc_val: 0.5740000009536743\n",
      "e: 2, b: 30/40, lost : 1168.1524658203125, acc: 0.6026315689086914, 0.593999981880188, acc_val: 0.578000009059906\n",
      "e: 2, b: 31/40, lost : 1163.698486328125, acc: 0.5991076827049255, 0.5924999713897705, acc_val: 0.578000009059906\n",
      "e: 2, b: 32/40, lost : 1153.4649658203125, acc: 0.6001235842704773, 0.5954999923706055, acc_val: 0.5759999752044678\n",
      "e: 2, b: 33/40, lost : 1144.640869140625, acc: 0.599880039691925, 0.5954999923706055, acc_val: 0.5720000267028809\n",
      "e: 2, b: 34/40, lost : 1139.650634765625, acc: 0.6008158326148987, 0.5989999771118164, acc_val: 0.5619999766349792\n",
      "e: 2, b: 35/40, lost : 1130.7298583984375, acc: 0.598866879940033, 0.6004999876022339, acc_val: 0.5600000023841858\n",
      "e: 2, b: 36/40, lost : 1112.2977294921875, acc: 0.6019845604896545, 0.6000000238418579, acc_val: 0.5580000281333923\n",
      "e: 2, b: 37/40, lost : 1117.4163818359375, acc: 0.5979602932929993, 0.5995000004768372, acc_val: 0.5580000281333923\n",
      "e: 2, b: 38/40, lost : 1111.68408203125, acc: 0.5972803235054016, 0.6014999747276306, acc_val: 0.5640000104904175\n",
      "e: 2, b: 39/40, lost : 1106.805908203125, acc: 0.5981642007827759, 0.6014999747276306, acc_val: 0.5680000185966492\n",
      "e: 3, b: 0/40, lost : 494.9691162109375, acc: 0.8199999928474426, 0.6014999747276306, acc_val: 0.5640000104904175\n",
      "e: 3, b: 1/40, lost : 532.6636352539062, acc: 0.7575757503509521, 0.6050000190734863, acc_val: 0.5619999766349792\n",
      "e: 3, b: 2/40, lost : 508.6181335449219, acc: 0.7229729890823364, 0.6025000214576721, acc_val: 0.5600000023841858\n",
      "e: 3, b: 3/40, lost : 544.9260864257812, acc: 0.710659921169281, 0.6054999828338623, acc_val: 0.5600000023841858\n",
      "e: 3, b: 4/40, lost : 560.9833984375, acc: 0.6991869807243347, 0.6054999828338623, acc_val: 0.5600000023841858\n",
      "e: 3, b: 5/40, lost : 583.6683959960938, acc: 0.701694905757904, 0.6085000038146973, acc_val: 0.5559999942779541\n",
      "e: 3, b: 6/40, lost : 607.5913696289062, acc: 0.694767415523529, 0.6069999933242798, acc_val: 0.5580000281333923\n",
      "e: 3, b: 7/40, lost : 666.0745239257812, acc: 0.6844783425331116, 0.6065000295639038, acc_val: 0.5600000023841858\n",
      "e: 3, b: 8/40, lost : 730.2304077148438, acc: 0.662895917892456, 0.6075000166893005, acc_val: 0.5580000281333923\n",
      "e: 3, b: 9/40, lost : 764.5159912109375, acc: 0.6639510989189148, 0.6075000166893005, acc_val: 0.5600000023841858\n",
      "e: 3, b: 10/40, lost : 795.3223266601562, acc: 0.6611111164093018, 0.609000027179718, acc_val: 0.5580000281333923\n",
      "e: 3, b: 11/40, lost : 818.3560791015625, acc: 0.6621392369270325, 0.6129999756813049, acc_val: 0.5580000281333923\n",
      "e: 3, b: 12/40, lost : 792.9683837890625, acc: 0.6708464026451111, 0.6150000095367432, acc_val: 0.5540000200271606\n",
      "e: 3, b: 13/40, lost : 811.1494750976562, acc: 0.6666666865348816, 0.6144999861717224, acc_val: 0.5519999861717224\n",
      "e: 3, b: 14/40, lost : 835.92822265625, acc: 0.657608687877655, 0.612500011920929, acc_val: 0.5559999942779541\n",
      "e: 3, b: 15/40, lost : 834.3638305664062, acc: 0.6585987210273743, 0.612500011920929, acc_val: 0.5580000281333923\n",
      "e: 3, b: 16/40, lost : 845.0997924804688, acc: 0.6582733988761902, 0.6144999861717224, acc_val: 0.5600000023841858\n",
      "e: 3, b: 17/40, lost : 869.6489868164062, acc: 0.6500566005706787, 0.6159999966621399, acc_val: 0.5580000281333923\n",
      "e: 3, b: 18/40, lost : 853.6051635742188, acc: 0.6491416096687317, 0.6184999942779541, acc_val: 0.5600000023841858\n",
      "e: 3, b: 19/40, lost : 852.6473999023438, acc: 0.6432211995124817, 0.612500011920929, acc_val: 0.5619999766349792\n",
      "e: 3, b: 20/40, lost : 857.617431640625, acc: 0.6446601748466492, 0.6119999885559082, acc_val: 0.5659999847412109\n",
      "e: 3, b: 21/40, lost : 856.0770874023438, acc: 0.6404078006744385, 0.6100000143051147, acc_val: 0.5600000023841858\n",
      "e: 3, b: 22/40, lost : 860.7500610351562, acc: 0.6347517967224121, 0.609499990940094, acc_val: 0.5580000281333923\n",
      "e: 3, b: 23/40, lost : 867.4452514648438, acc: 0.6312659382820129, 0.6104999780654907, acc_val: 0.5580000281333923\n",
      "e: 3, b: 24/40, lost : 891.9890747070312, acc: 0.6305056810379028, 0.6134999990463257, acc_val: 0.5600000023841858\n",
      "e: 3, b: 25/40, lost : 890.2611083984375, acc: 0.6298038959503174, 0.6129999756813049, acc_val: 0.5619999766349792\n",
      "e: 3, b: 26/40, lost : 882.1842651367188, acc: 0.6291540861129761, 0.612500011920929, acc_val: 0.5619999766349792\n",
      "e: 3, b: 27/40, lost : 901.48291015625, acc: 0.6343773007392883, 0.6144999861717224, acc_val: 0.5640000104904175\n",
      "e: 3, b: 28/40, lost : 929.3248291015625, acc: 0.6293952465057373, 0.6144999861717224, acc_val: 0.5659999847412109\n",
      "e: 3, b: 29/40, lost : 915.87841796875, acc: 0.6261047124862671, 0.6144999861717224, acc_val: 0.5680000185966492\n",
      "e: 3, b: 30/40, lost : 917.0543823242188, acc: 0.6263157725334167, 0.6159999966621399, acc_val: 0.5640000104904175\n",
      "e: 3, b: 31/40, lost : 915.8763427734375, acc: 0.6309751272201538, 0.6205000281333923, acc_val: 0.5680000185966492\n",
      "e: 3, b: 32/40, lost : 911.9274291992188, acc: 0.6279357075691223, 0.6194999814033508, acc_val: 0.5659999847412109\n",
      "e: 3, b: 33/40, lost : 910.3153076171875, acc: 0.6268746256828308, 0.6209999918937683, acc_val: 0.5640000104904175\n",
      "e: 3, b: 34/40, lost : 911.14013671875, acc: 0.6305361390113831, 0.6269999742507935, acc_val: 0.5680000185966492\n",
      "e: 3, b: 35/40, lost : 911.7509765625, acc: 0.6300283074378967, 0.6290000081062317, acc_val: 0.5659999847412109\n",
      "e: 3, b: 36/40, lost : 897.8069458007812, acc: 0.6328555941581726, 0.6294999718666077, acc_val: 0.5640000104904175\n",
      "e: 3, b: 37/40, lost : 903.5093994140625, acc: 0.627482533454895, 0.628000020980835, acc_val: 0.5720000267028809\n",
      "e: 3, b: 38/40, lost : 902.4768676757812, acc: 0.6276150345802307, 0.6309999823570251, acc_val: 0.5699999928474426\n",
      "e: 3, b: 39/40, lost : 904.2324829101562, acc: 0.6267210841178894, 0.6305000185966492, acc_val: 0.5680000185966492\n",
      "e: 4, b: 0/40, lost : 259.5323791503906, acc: 0.8199999928474426, 0.6330000162124634, acc_val: 0.5619999766349792\n",
      "e: 4, b: 1/40, lost : 270.30841064453125, acc: 0.8181818127632141, 0.6324999928474426, acc_val: 0.5559999942779541\n",
      "e: 4, b: 2/40, lost : 273.7782287597656, acc: 0.7905405163764954, 0.6349999904632568, acc_val: 0.5580000281333923\n",
      "e: 4, b: 3/40, lost : 292.7624816894531, acc: 0.807106614112854, 0.6365000009536743, acc_val: 0.5559999942779541\n",
      "e: 4, b: 4/40, lost : 324.5879211425781, acc: 0.7886179089546204, 0.6389999985694885, acc_val: 0.5580000281333923\n",
      "e: 4, b: 5/40, lost : 352.84185791015625, acc: 0.7627118825912476, 0.6434999704360962, acc_val: 0.5540000200271606\n",
      "e: 4, b: 6/40, lost : 371.6426086425781, acc: 0.7441860437393188, 0.6424999833106995, acc_val: 0.5580000281333923\n",
      "e: 4, b: 7/40, lost : 430.26483154296875, acc: 0.732824444770813, 0.6430000066757202, acc_val: 0.5600000023841858\n",
      "e: 4, b: 8/40, lost : 489.1387023925781, acc: 0.7239819169044495, 0.6460000276565552, acc_val: 0.5580000281333923\n",
      "e: 4, b: 9/40, lost : 532.2938842773438, acc: 0.7189409136772156, 0.6414999961853027, acc_val: 0.5600000023841858\n",
      "e: 4, b: 10/40, lost : 562.2279052734375, acc: 0.7185184955596924, 0.6414999961853027, acc_val: 0.5580000281333923\n",
      "e: 4, b: 11/40, lost : 591.3200073242188, acc: 0.7113752365112305, 0.6420000195503235, acc_val: 0.5600000023841858\n",
      "e: 4, b: 12/40, lost : 579.642822265625, acc: 0.7210031151771545, 0.6455000042915344, acc_val: 0.5559999942779541\n",
      "e: 4, b: 13/40, lost : 593.0586547851562, acc: 0.7161571979522705, 0.6485000252723694, acc_val: 0.5600000023841858\n",
      "e: 4, b: 14/40, lost : 621.4254760742188, acc: 0.7038043737411499, 0.6485000252723694, acc_val: 0.5559999942779541\n",
      "e: 4, b: 15/40, lost : 619.3265991210938, acc: 0.7019108533859253, 0.6460000276565552, acc_val: 0.5580000281333923\n",
      "e: 4, b: 16/40, lost : 628.963134765625, acc: 0.7002398371696472, 0.6449999809265137, acc_val: 0.5600000023841858\n",
      "e: 4, b: 17/40, lost : 652.2818603515625, acc: 0.6953567266464233, 0.6455000042915344, acc_val: 0.5540000200271606\n",
      "e: 4, b: 18/40, lost : 648.3756103515625, acc: 0.6942059993743896, 0.6460000276565552, acc_val: 0.5559999942779541\n",
      "e: 4, b: 19/40, lost : 651.0726318359375, acc: 0.6972476840019226, 0.6474999785423279, acc_val: 0.5540000200271606\n",
      "e: 4, b: 20/40, lost : 659.7335815429688, acc: 0.6883494853973389, 0.6414999961853027, acc_val: 0.5559999942779541\n",
      "e: 4, b: 21/40, lost : 660.8153076171875, acc: 0.6821130514144897, 0.640999972820282, acc_val: 0.5619999766349792\n",
      "e: 4, b: 22/40, lost : 670.6143798828125, acc: 0.6781914830207825, 0.640999972820282, acc_val: 0.5600000023841858\n",
      "e: 4, b: 23/40, lost : 679.1823120117188, acc: 0.6779949069023132, 0.6445000171661377, acc_val: 0.5580000281333923\n",
      "e: 4, b: 24/40, lost : 705.2843627929688, acc: 0.6704730987548828, 0.6424999833106995, acc_val: 0.5619999766349792\n",
      "e: 4, b: 25/40, lost : 707.8681640625, acc: 0.6705882549285889, 0.6430000066757202, acc_val: 0.5619999766349792\n",
      "e: 4, b: 26/40, lost : 705.8526000976562, acc: 0.6752265691757202, 0.6460000276565552, acc_val: 0.5659999847412109\n",
      "e: 4, b: 27/40, lost : 726.973388671875, acc: 0.6729788780212402, 0.6464999914169312, acc_val: 0.5659999847412109\n",
      "e: 4, b: 28/40, lost : 753.0978393554688, acc: 0.6680731177330017, 0.6460000276565552, acc_val: 0.5659999847412109\n",
      "e: 4, b: 29/40, lost : 745.9238891601562, acc: 0.6668932437896729, 0.6480000019073486, acc_val: 0.5659999847412109\n",
      "e: 4, b: 30/40, lost : 750.506591796875, acc: 0.6644737124443054, 0.6474999785423279, acc_val: 0.5640000104904175\n",
      "e: 4, b: 31/40, lost : 752.7191162109375, acc: 0.6628425717353821, 0.6485000252723694, acc_val: 0.5640000104904175\n",
      "e: 4, b: 32/40, lost : 752.8424072265625, acc: 0.6668726801872253, 0.652999997138977, acc_val: 0.5640000104904175\n",
      "e: 4, b: 33/40, lost : 757.124267578125, acc: 0.6664667129516602, 0.6539999842643738, acc_val: 0.5659999847412109\n",
      "e: 4, b: 34/40, lost : 763.9448852539062, acc: 0.6614218950271606, 0.6535000205039978, acc_val: 0.5659999847412109\n",
      "e: 4, b: 35/40, lost : 767.8784790039062, acc: 0.6572238206863403, 0.6535000205039978, acc_val: 0.5659999847412109\n",
      "e: 4, b: 36/40, lost : 757.5798950195312, acc: 0.6571113467216492, 0.6524999737739563, acc_val: 0.5619999766349792\n",
      "e: 4, b: 37/40, lost : 764.7734985351562, acc: 0.6527106761932373, 0.6520000100135803, acc_val: 0.5600000023841858\n",
      "e: 4, b: 38/40, lost : 766.6746215820312, acc: 0.6495816111564636, 0.6524999737739563, acc_val: 0.5619999766349792\n",
      "e: 4, b: 39/40, lost : 771.5242919921875, acc: 0.648138701915741, 0.6524999737739563, acc_val: 0.5619999766349792\n",
      "e: 5, b: 0/40, lost : 161.2559051513672, acc: 0.8799999952316284, 0.6495000123977661, acc_val: 0.5619999766349792\n",
      "e: 5, b: 1/40, lost : 138.17930603027344, acc: 0.8585858345031738, 0.6480000019073486, acc_val: 0.5600000023841858\n",
      "e: 5, b: 2/40, lost : 128.7528839111328, acc: 0.8445945978164673, 0.6474999785423279, acc_val: 0.5600000023841858\n",
      "e: 5, b: 3/40, lost : 155.63388061523438, acc: 0.8477157354354858, 0.656499981880188, acc_val: 0.5600000023841858\n",
      "e: 5, b: 4/40, lost : 191.80853271484375, acc: 0.8252032399177551, 0.6570000052452087, acc_val: 0.5659999847412109\n",
      "e: 5, b: 5/40, lost : 211.78477478027344, acc: 0.8135592937469482, 0.6610000133514404, acc_val: 0.5619999766349792\n",
      "e: 5, b: 6/40, lost : 226.43768310546875, acc: 0.8023256063461304, 0.6604999899864197, acc_val: 0.5559999942779541\n",
      "e: 5, b: 7/40, lost : 272.9349670410156, acc: 0.7938931584358215, 0.6575000286102295, acc_val: 0.5580000281333923\n",
      "e: 5, b: 8/40, lost : 323.1788635253906, acc: 0.7782805562019348, 0.6600000262260437, acc_val: 0.5600000023841858\n",
      "e: 5, b: 9/40, lost : 369.9559020996094, acc: 0.790224015712738, 0.6685000061988831, acc_val: 0.5540000200271606\n",
      "e: 5, b: 10/40, lost : 399.153076171875, acc: 0.7777777910232544, 0.6675000190734863, acc_val: 0.5580000281333923\n",
      "e: 5, b: 11/40, lost : 430.1427307128906, acc: 0.7623090147972107, 0.6664999723434448, acc_val: 0.5580000281333923\n",
      "e: 5, b: 12/40, lost : 426.35137939453125, acc: 0.7554858922958374, 0.6620000004768372, acc_val: 0.5559999942779541\n",
      "e: 5, b: 13/40, lost : 443.5707702636719, acc: 0.7467249035835266, 0.659500002861023, acc_val: 0.5540000200271606\n",
      "e: 5, b: 14/40, lost : 471.2430419921875, acc: 0.7445651888847351, 0.6614999771118164, acc_val: 0.5600000023841858\n",
      "e: 5, b: 15/40, lost : 474.4282531738281, acc: 0.7541401386260986, 0.6704999804496765, acc_val: 0.5619999766349792\n",
      "e: 5, b: 16/40, lost : 485.01190185546875, acc: 0.7398081421852112, 0.6669999957084656, acc_val: 0.5640000104904175\n",
      "e: 5, b: 17/40, lost : 505.69097900390625, acc: 0.7417893409729004, 0.671500027179718, acc_val: 0.5640000104904175\n",
      "e: 5, b: 18/40, lost : 509.4868469238281, acc: 0.7285407781600952, 0.6660000085830688, acc_val: 0.5640000104904175\n",
      "e: 5, b: 19/40, lost : 512.9287719726562, acc: 0.72273188829422, 0.6620000004768372, acc_val: 0.5640000104904175\n",
      "e: 5, b: 20/40, lost : 524.3720092773438, acc: 0.7174757122993469, 0.6620000004768372, acc_val: 0.5640000104904175\n",
      "e: 5, b: 21/40, lost : 524.6557006835938, acc: 0.708063006401062, 0.6610000133514404, acc_val: 0.5699999928474426\n",
      "e: 5, b: 22/40, lost : 538.9229736328125, acc: 0.7109929323196411, 0.6654999852180481, acc_val: 0.5680000185966492\n",
      "e: 5, b: 23/40, lost : 546.3876953125, acc: 0.7009345889091492, 0.6614999771118164, acc_val: 0.5680000185966492\n",
      "e: 5, b: 24/40, lost : 573.68603515625, acc: 0.6900489330291748, 0.6575000286102295, acc_val: 0.5659999847412109\n",
      "e: 5, b: 25/40, lost : 578.1553955078125, acc: 0.6831372380256653, 0.6545000076293945, acc_val: 0.5619999766349792\n",
      "e: 5, b: 26/40, lost : 579.4259643554688, acc: 0.6880664825439453, 0.6589999794960022, acc_val: 0.5659999847412109\n",
      "e: 5, b: 27/40, lost : 603.0582885742188, acc: 0.6897305250167847, 0.6625000238418579, acc_val: 0.5699999928474426\n",
      "e: 5, b: 28/40, lost : 629.362060546875, acc: 0.6877636909484863, 0.6660000085830688, acc_val: 0.5680000185966492\n",
      "e: 5, b: 29/40, lost : 625.3850708007812, acc: 0.6879673600196838, 0.6669999957084656, acc_val: 0.5640000104904175\n",
      "e: 5, b: 30/40, lost : 632.197265625, acc: 0.6848683953285217, 0.6664999723434448, acc_val: 0.5640000104904175\n",
      "e: 5, b: 31/40, lost : 636.5067749023438, acc: 0.6838750839233398, 0.6669999957084656, acc_val: 0.5600000023841858\n",
      "e: 5, b: 32/40, lost : 639.5369262695312, acc: 0.6835599541664124, 0.6675000190734863, acc_val: 0.5640000104904175\n",
      "e: 5, b: 33/40, lost : 647.7581787109375, acc: 0.6820635795593262, 0.6685000061988831, acc_val: 0.5659999847412109\n",
      "e: 5, b: 34/40, lost : 658.5594482421875, acc: 0.6794871687889099, 0.6690000295639038, acc_val: 0.5699999928474426\n",
      "e: 5, b: 35/40, lost : 665.0671997070312, acc: 0.6764872670173645, 0.6690000295639038, acc_val: 0.5659999847412109\n",
      "e: 5, b: 36/40, lost : 657.8980102539062, acc: 0.6786108016967773, 0.6700000166893005, acc_val: 0.5659999847412109\n",
      "e: 5, b: 37/40, lost : 664.6480712890625, acc: 0.67686527967453, 0.6729999780654907, acc_val: 0.5659999847412109\n",
      "e: 5, b: 38/40, lost : 668.9134521484375, acc: 0.6725941300392151, 0.6740000247955322, acc_val: 0.5580000281333923\n",
      "e: 5, b: 39/40, lost : 675.5614624023438, acc: 0.6695563197135925, 0.6735000014305115, acc_val: 0.5580000281333923\n",
      "e: 6, b: 0/40, lost : 123.042236328125, acc: 0.8799999952316284, 0.6754999756813049, acc_val: 0.5600000023841858\n",
      "e: 6, b: 1/40, lost : 87.14089965820312, acc: 0.8484848737716675, 0.6725000143051147, acc_val: 0.5720000267028809\n",
      "e: 6, b: 2/40, lost : 73.04410552978516, acc: 0.8851351141929626, 0.6800000071525574, acc_val: 0.5699999928474426\n",
      "e: 6, b: 3/40, lost : 91.4312973022461, acc: 0.8832487463951111, 0.6765000224113464, acc_val: 0.5680000185966492\n",
      "e: 6, b: 4/40, lost : 119.78137969970703, acc: 0.8739837408065796, 0.6759999990463257, acc_val: 0.5640000104904175\n",
      "e: 6, b: 5/40, lost : 138.04327392578125, acc: 0.8508474826812744, 0.6809999942779541, acc_val: 0.5640000104904175\n",
      "e: 6, b: 6/40, lost : 141.5944366455078, acc: 0.8343023061752319, 0.6800000071525574, acc_val: 0.5699999928474426\n",
      "e: 6, b: 7/40, lost : 172.97828674316406, acc: 0.8346055746078491, 0.6834999918937683, acc_val: 0.5680000185966492\n",
      "e: 6, b: 8/40, lost : 215.87171936035156, acc: 0.8257918357849121, 0.6830000281333923, acc_val: 0.5659999847412109\n",
      "e: 6, b: 9/40, lost : 259.3201599121094, acc: 0.8146639466285706, 0.6855000257492065, acc_val: 0.5619999766349792\n",
      "e: 6, b: 10/40, lost : 282.9402160644531, acc: 0.8074073791503906, 0.6840000152587891, acc_val: 0.5600000023841858\n",
      "e: 6, b: 11/40, lost : 311.05810546875, acc: 0.7860780954360962, 0.6815000176429749, acc_val: 0.5640000104904175\n",
      "e: 6, b: 12/40, lost : 310.1789245605469, acc: 0.794670820236206, 0.6819999814033508, acc_val: 0.5640000104904175\n",
      "e: 6, b: 13/40, lost : 325.39361572265625, acc: 0.7933042049407959, 0.6875, acc_val: 0.5640000104904175\n",
      "e: 6, b: 14/40, lost : 352.6435546875, acc: 0.7771739363670349, 0.6890000104904175, acc_val: 0.5680000185966492\n",
      "e: 6, b: 15/40, lost : 359.06768798828125, acc: 0.7783439755439758, 0.6884999871253967, acc_val: 0.5680000185966492\n",
      "e: 6, b: 16/40, lost : 372.4912414550781, acc: 0.7709832191467285, 0.6830000281333923, acc_val: 0.5640000104904175\n",
      "e: 6, b: 17/40, lost : 395.548828125, acc: 0.7599093914031982, 0.6825000047683716, acc_val: 0.5640000104904175\n",
      "e: 6, b: 18/40, lost : 402.26495361328125, acc: 0.7446351647377014, 0.6819999814033508, acc_val: 0.5720000267028809\n",
      "e: 6, b: 19/40, lost : 406.7444763183594, acc: 0.7441386580467224, 0.6815000176429749, acc_val: 0.5720000267028809\n",
      "e: 6, b: 20/40, lost : 418.2200622558594, acc: 0.7427184581756592, 0.6809999942779541, acc_val: 0.5720000267028809\n",
      "e: 6, b: 21/40, lost : 417.9990234375, acc: 0.7367933392524719, 0.6794999837875366, acc_val: 0.5659999847412109\n",
      "e: 6, b: 22/40, lost : 433.9293518066406, acc: 0.7304964661598206, 0.6775000095367432, acc_val: 0.5699999928474426\n",
      "e: 6, b: 23/40, lost : 442.2547912597656, acc: 0.7366185188293457, 0.6850000023841858, acc_val: 0.5720000267028809\n",
      "e: 6, b: 24/40, lost : 470.2492370605469, acc: 0.7283849716186523, 0.6850000023841858, acc_val: 0.5659999847412109\n",
      "e: 6, b: 25/40, lost : 475.5509948730469, acc: 0.7286274433135986, 0.6880000233650208, acc_val: 0.5659999847412109\n",
      "e: 6, b: 26/40, lost : 481.35565185546875, acc: 0.7273414134979248, 0.690500020980835, acc_val: 0.5659999847412109\n",
      "e: 6, b: 27/40, lost : 504.2587890625, acc: 0.7217771410942078, 0.6890000104904175, acc_val: 0.5659999847412109\n",
      "e: 6, b: 28/40, lost : 530.4656982421875, acc: 0.7194092869758606, 0.6894999742507935, acc_val: 0.5659999847412109\n"
     ]
    }
   ],
   "source": [
    "batch_size = 50\n",
    "batch_n = int(len(xt)/batch_size)\n",
    "epochs = 20\n",
    "init = tf.global_variables_initializer()\n",
    "with tf.Session() as sess:\n",
    "    sess.run(init)\n",
    "    for e in range(epochs):\n",
    "        for b in range(batch_n):\n",
    "            x_batch, y_batch = xt[b:(b+1) * batch_size], yt[b:(b+1) * batch_size]\n",
    "            sess.run(optimizer, feed_dict={x: x_batch, y: y_batch})\n",
    "            lost = sess.run(cost, feed_dict={x: x_batch, y: y_batch})\n",
    "            acc_b = sess.run(accuracy, feed_dict={x: x_batch, y: y_batch})\n",
    "            acc_ft = sess.run(accuracy, feed_dict={x: xt, y: yt})\n",
    "            acc_val = sess.run(accuracy, feed_dict={x: xv, y:yv})\n",
    "            \n",
    "            print (\"e: {}, b: {}/{}, lost : {}, acc: {}, {}, acc_val: {}\".format(e, b, batch_n, lost, acc_b, acc_ft, acc_val))\n",
    "\n",
    "        \n",
    "    \"\"\"for u in range(nt):\n",
    "        pr = sess.run(pred, feed_dict={x: xt[u].reshape((1,32,32,3))})\n",
    "        print(yt[u], pr)\"\"\"\n",
    "  \n",
    "    print(\"done.\")"
   ]
  },
  {
   "cell_type": "code",
   "execution_count": null,
   "metadata": {
    "collapsed": true,
    "deletable": true,
    "editable": true
   },
   "outputs": [],
   "source": []
  }
 ],
 "metadata": {
  "kernelspec": {
   "display_name": "Python 3",
   "language": "python",
   "name": "python3"
  },
  "language_info": {
   "codemirror_mode": {
    "name": "ipython",
    "version": 3
   },
   "file_extension": ".py",
   "mimetype": "text/x-python",
   "name": "python",
   "nbconvert_exporter": "python",
   "pygments_lexer": "ipython3",
   "version": "3.5.2"
  },
  "widgets": {
   "state": {},
   "version": "1.1.2"
  }
 },
 "nbformat": 4,
 "nbformat_minor": 2
}
