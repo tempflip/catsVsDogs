{
 "cells": [
  {
   "cell_type": "code",
   "execution_count": 33,
   "metadata": {
    "collapsed": false,
    "deletable": true,
    "editable": true
   },
   "outputs": [
    {
     "name": "stdout",
     "output_type": "stream",
     "text": [
      "500\n",
      "1000\n",
      "1500\n",
      "2000\n",
      "2500\n",
      "3000\n",
      "3500\n",
      "4000\n",
      "4500\n",
      "5000\n",
      "5500\n",
      "6000\n",
      "6500\n",
      "7000\n",
      "7500\n",
      "8000\n",
      "8500\n",
      "9000\n",
      "9500\n",
      "10000\n",
      "10500\n",
      "11000\n",
      "11500\n",
      "12000\n",
      "12500\n",
      "ok\n",
      "(12500, 32, 32, 3)\n",
      "0.992188 -1.0\n"
     ]
    },
    {
     "data": {
      "text/plain": [
       "<matplotlib.image.AxesImage at 0x1372c56a0>"
      ]
     },
     "execution_count": 33,
     "metadata": {},
     "output_type": "execute_result"
    },
    {
     "data": {
      "image/png": "[encoded data removed]",
      "text/plain": [
       "<matplotlib.figure.Figure at 0x1371d66d8>"
      ]
     },
     "metadata": {},
     "output_type": "display_data"
    }
   ],
   "source": [
    "from scipy import misc\n",
    "import numpy as np\n",
    "import matplotlib.pyplot as plt\n",
    "%matplotlib inline\n",
    "\n",
    "im_n = 12500\n",
    "\n",
    "im_list = []\n",
    "for i in range(1,im_n+1):\n",
    "    im = misc.imresize(misc.imread(\"./test/{}.jpg\".format(i)), (32,32) )\n",
    "    im_list.append(im)\n",
    "    if i%500 == 0 : print (i)\n",
    "    \n",
    "im_list = np.array(im_list, dtype=np.float32)\n",
    "im_list = im_list - 128\n",
    "im_list = im_list / 128\n",
    "\n",
    "print (\"ok\")\n",
    "\n",
    "\n",
    "\n",
    "print(im_list.shape)\n",
    "print (np.max(im_list), np.min(im_list))\n",
    "\n",
    "plt.subplot(411)\n",
    "plt.imshow(im_list[500])\n",
    "plt.subplot(412)\n",
    "plt.imshow(im_list[501])\n",
    "plt.subplot(413)\n",
    "plt.imshow(im_list[502])\n",
    "plt.subplot(414)\n",
    "plt.imshow(im_list[503])\n"
   ]
  },
  {
   "cell_type": "code",
   "execution_count": 38,
   "metadata": {
    "collapsed": false,
    "deletable": true,
    "editable": true
   },
   "outputs": [
    {
     "name": "stdout",
     "output_type": "stream",
     "text": [
      "[[ 0.85001647  0.14998345]\n",
      " [ 0.93570548  0.06429452]\n",
      " [ 0.48256174  0.51743823]\n",
      " ..., \n",
      " [ 0.83013934  0.16986063]\n",
      " [ 0.97460866  0.02539137]\n",
      " [ 0.0822513   0.91774875]]\n",
      "preds OK\n",
      "file OK\n"
     ]
    }
   ],
   "source": [
    "from keras.models import load_model\n",
    "m = load_model(\"./cat_w2.h5\")\n",
    "\n",
    "preds = m.predict(im_list)\n",
    "print (preds)\n",
    "\n",
    "pr = preds[:,0]\n",
    "print (\"preds OK\")\n",
    "\n",
    "f = open('predictions.csv', 'w')\n",
    "print(\"id,label\", file=f)\n",
    "\n",
    "for i, pp in zip(range(1, im_n+1), pr): \n",
    "    print(\"{},{}\".format(i, pp), file=f)\n",
    "f.close()\n",
    "print(\"file OK\")"
   ]
  },
  {
   "cell_type": "code",
   "execution_count": null,
   "metadata": {
    "collapsed": true,
    "deletable": true,
    "editable": true
   },
   "outputs": [],
   "source": []
  }
 ],
 "metadata": {
  "kernelspec": {
   "display_name": "Python 3",
   "language": "python",
   "name": "python3"
  },
  "language_info": {
   "codemirror_mode": {
    "name": "ipython",
    "version": 3
   },
   "file_extension": ".py",
   "mimetype": "text/x-python",
   "name": "python",
   "nbconvert_exporter": "python",
   "pygments_lexer": "ipython3",
   "version": "3.5.2"
  },
  "widgets": {
   "state": {},
   "version": "1.1.2"
  }
 },
 "nbformat": 4,
 "nbformat_minor": 2
}
